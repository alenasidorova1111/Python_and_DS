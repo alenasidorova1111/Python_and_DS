{
 "cells": [
  {
   "cell_type": "markdown",
   "metadata": {},
   "source": [
    "# Creating a restaurant rating prediction model"
   ]
  },
  {
   "cell_type": "markdown",
   "metadata": {},
   "source": [
    "### Import"
   ]
  },
  {
   "cell_type": "code",
   "execution_count": 1,
   "metadata": {
    "_cell_guid": "b1076dfc-b9ad-4769-8c92-a6c4dae69d19",
    "_uuid": "8f2839f25d086af736a60e9eeb907d3b93b6e0e5"
   },
   "outputs": [
    {
     "name": "stdout",
     "output_type": "stream",
     "text": [
      "/kaggle/input/sf-dst-restaurant-rating/kaggle_task.csv\n",
      "/kaggle/input/sf-dst-restaurant-rating/main_task.csv\n",
      "/kaggle/input/sf-dst-restaurant-rating/sample_submission.csv\n"
     ]
    }
   ],
   "source": [
    "import numpy as np\n",
    "import pandas as pd\n",
    "import matplotlib.pyplot as plt\n",
    "import seaborn as sns \n",
    "%matplotlib inline\n",
    "import datetime\n",
    "from sklearn.model_selection import train_test_split\n",
    "import os\n",
    "for dirname, _, filenames in os.walk('/kaggle/input'):\n",
    "    for filename in filenames:\n",
    "        print(os.path.join(dirname, filename))\n",
    "from collections import Counter\n",
    "import re\n",
    "from sklearn.preprocessing import StandardScaler"
   ]
  },
  {
   "cell_type": "code",
   "execution_count": 2,
   "metadata": {},
   "outputs": [],
   "source": [
    "# Fixing RANDOM_SEED so that the experiments are reproducible\n",
    "RANDOM_SEED = 42"
   ]
  },
  {
   "cell_type": "code",
   "execution_count": 3,
   "metadata": {},
   "outputs": [],
   "source": [
    "# Fixing the version of the packages so that the experiments are reproducible\n",
    "!pip freeze > requirements.txt"
   ]
  },
  {
   "cell_type": "markdown",
   "metadata": {},
   "source": [
    "# DATA"
   ]
  },
  {
   "cell_type": "code",
   "execution_count": 4,
   "metadata": {
    "_cell_guid": "79c7e3d0-c299-4dcb-8224-4455121ee9b0",
    "_uuid": "d629ff2d2480ee46fbb7e2d37f6b5fab8052498a"
   },
   "outputs": [],
   "source": [
    "DATA_DIR = '/kaggle/input/sf-dst-restaurant-rating/'\n",
    "df_train = pd.read_csv(DATA_DIR+'/main_task.csv')\n",
    "df_test = pd.read_csv(DATA_DIR+'kaggle_task.csv')\n",
    "sample_submission = pd.read_csv(DATA_DIR+'/sample_submission.csv')"
   ]
  },
  {
   "cell_type": "code",
   "execution_count": 5,
   "metadata": {},
   "outputs": [
    {
     "name": "stdout",
     "output_type": "stream",
     "text": [
      "<class 'pandas.core.frame.DataFrame'>\n",
      "RangeIndex: 40000 entries, 0 to 39999\n",
      "Data columns (total 10 columns):\n",
      "Restaurant_id        40000 non-null object\n",
      "City                 40000 non-null object\n",
      "Cuisine Style        30717 non-null object\n",
      "Ranking              40000 non-null float64\n",
      "Rating               40000 non-null float64\n",
      "Price Range          26114 non-null object\n",
      "Number of Reviews    37457 non-null float64\n",
      "Reviews              40000 non-null object\n",
      "URL_TA               40000 non-null object\n",
      "ID_TA                40000 non-null object\n",
      "dtypes: float64(3), object(7)\n",
      "memory usage: 3.1+ MB\n"
     ]
    }
   ],
   "source": [
    "df_train.info()"
   ]
  },
  {
   "cell_type": "code",
   "execution_count": 6,
   "metadata": {},
   "outputs": [
    {
     "data": {
      "text/html": [
       "<div>\n",
       "<style scoped>\n",
       "    .dataframe tbody tr th:only-of-type {\n",
       "        vertical-align: middle;\n",
       "    }\n",
       "\n",
       "    .dataframe tbody tr th {\n",
       "        vertical-align: top;\n",
       "    }\n",
       "\n",
       "    .dataframe thead th {\n",
       "        text-align: right;\n",
       "    }\n",
       "</style>\n",
       "<table border=\"1\" class=\"dataframe\">\n",
       "  <thead>\n",
       "    <tr style=\"text-align: right;\">\n",
       "      <th></th>\n",
       "      <th>Restaurant_id</th>\n",
       "      <th>City</th>\n",
       "      <th>Cuisine Style</th>\n",
       "      <th>Ranking</th>\n",
       "      <th>Rating</th>\n",
       "      <th>Price Range</th>\n",
       "      <th>Number of Reviews</th>\n",
       "      <th>Reviews</th>\n",
       "      <th>URL_TA</th>\n",
       "      <th>ID_TA</th>\n",
       "    </tr>\n",
       "  </thead>\n",
       "  <tbody>\n",
       "    <tr>\n",
       "      <th>0</th>\n",
       "      <td>id_5569</td>\n",
       "      <td>Paris</td>\n",
       "      <td>['European', 'French', 'International']</td>\n",
       "      <td>5570.0</td>\n",
       "      <td>3.5</td>\n",
       "      <td>$$ - $$$</td>\n",
       "      <td>194.0</td>\n",
       "      <td>[['Good food at your doorstep', 'A good hotel ...</td>\n",
       "      <td>/Restaurant_Review-g187147-d1912643-Reviews-R_...</td>\n",
       "      <td>d1912643</td>\n",
       "    </tr>\n",
       "    <tr>\n",
       "      <th>1</th>\n",
       "      <td>id_1535</td>\n",
       "      <td>Stockholm</td>\n",
       "      <td>NaN</td>\n",
       "      <td>1537.0</td>\n",
       "      <td>4.0</td>\n",
       "      <td>NaN</td>\n",
       "      <td>10.0</td>\n",
       "      <td>[['Unique cuisine', 'Delicious Nepalese food']...</td>\n",
       "      <td>/Restaurant_Review-g189852-d7992032-Reviews-Bu...</td>\n",
       "      <td>d7992032</td>\n",
       "    </tr>\n",
       "    <tr>\n",
       "      <th>2</th>\n",
       "      <td>id_352</td>\n",
       "      <td>London</td>\n",
       "      <td>['Japanese', 'Sushi', 'Asian', 'Grill', 'Veget...</td>\n",
       "      <td>353.0</td>\n",
       "      <td>4.5</td>\n",
       "      <td>$$$$</td>\n",
       "      <td>688.0</td>\n",
       "      <td>[['Catch up with friends', 'Not exceptional'],...</td>\n",
       "      <td>/Restaurant_Review-g186338-d8632781-Reviews-RO...</td>\n",
       "      <td>d8632781</td>\n",
       "    </tr>\n",
       "    <tr>\n",
       "      <th>3</th>\n",
       "      <td>id_3456</td>\n",
       "      <td>Berlin</td>\n",
       "      <td>NaN</td>\n",
       "      <td>3458.0</td>\n",
       "      <td>5.0</td>\n",
       "      <td>NaN</td>\n",
       "      <td>3.0</td>\n",
       "      <td>[[], []]</td>\n",
       "      <td>/Restaurant_Review-g187323-d1358776-Reviews-Es...</td>\n",
       "      <td>d1358776</td>\n",
       "    </tr>\n",
       "    <tr>\n",
       "      <th>4</th>\n",
       "      <td>id_615</td>\n",
       "      <td>Munich</td>\n",
       "      <td>['German', 'Central European', 'Vegetarian Fri...</td>\n",
       "      <td>621.0</td>\n",
       "      <td>4.0</td>\n",
       "      <td>$$ - $$$</td>\n",
       "      <td>84.0</td>\n",
       "      <td>[['Best place to try a Bavarian food', 'Nice b...</td>\n",
       "      <td>/Restaurant_Review-g187309-d6864963-Reviews-Au...</td>\n",
       "      <td>d6864963</td>\n",
       "    </tr>\n",
       "  </tbody>\n",
       "</table>\n",
       "</div>"
      ],
      "text/plain": [
       "  Restaurant_id       City                                      Cuisine Style  \\\n",
       "0       id_5569      Paris            ['European', 'French', 'International']   \n",
       "1       id_1535  Stockholm                                                NaN   \n",
       "2        id_352     London  ['Japanese', 'Sushi', 'Asian', 'Grill', 'Veget...   \n",
       "3       id_3456     Berlin                                                NaN   \n",
       "4        id_615     Munich  ['German', 'Central European', 'Vegetarian Fri...   \n",
       "\n",
       "   Ranking  Rating Price Range  Number of Reviews  \\\n",
       "0   5570.0     3.5    $$ - $$$              194.0   \n",
       "1   1537.0     4.0         NaN               10.0   \n",
       "2    353.0     4.5        $$$$              688.0   \n",
       "3   3458.0     5.0         NaN                3.0   \n",
       "4    621.0     4.0    $$ - $$$               84.0   \n",
       "\n",
       "                                             Reviews  \\\n",
       "0  [['Good food at your doorstep', 'A good hotel ...   \n",
       "1  [['Unique cuisine', 'Delicious Nepalese food']...   \n",
       "2  [['Catch up with friends', 'Not exceptional'],...   \n",
       "3                                           [[], []]   \n",
       "4  [['Best place to try a Bavarian food', 'Nice b...   \n",
       "\n",
       "                                              URL_TA     ID_TA  \n",
       "0  /Restaurant_Review-g187147-d1912643-Reviews-R_...  d1912643  \n",
       "1  /Restaurant_Review-g189852-d7992032-Reviews-Bu...  d7992032  \n",
       "2  /Restaurant_Review-g186338-d8632781-Reviews-RO...  d8632781  \n",
       "3  /Restaurant_Review-g187323-d1358776-Reviews-Es...  d1358776  \n",
       "4  /Restaurant_Review-g187309-d6864963-Reviews-Au...  d6864963  "
      ]
     },
     "execution_count": 6,
     "metadata": {},
     "output_type": "execute_result"
    }
   ],
   "source": [
    "df_train.head(5)"
   ]
  },
  {
   "cell_type": "code",
   "execution_count": 7,
   "metadata": {},
   "outputs": [
    {
     "name": "stdout",
     "output_type": "stream",
     "text": [
      "<class 'pandas.core.frame.DataFrame'>\n",
      "RangeIndex: 10000 entries, 0 to 9999\n",
      "Data columns (total 9 columns):\n",
      "Restaurant_id        10000 non-null object\n",
      "City                 10000 non-null object\n",
      "Cuisine Style        7693 non-null object\n",
      "Ranking              10000 non-null float64\n",
      "Price Range          6525 non-null object\n",
      "Number of Reviews    9343 non-null float64\n",
      "Reviews              9998 non-null object\n",
      "URL_TA               10000 non-null object\n",
      "ID_TA                10000 non-null object\n",
      "dtypes: float64(2), object(7)\n",
      "memory usage: 703.2+ KB\n"
     ]
    }
   ],
   "source": [
    "df_test.info()"
   ]
  },
  {
   "cell_type": "code",
   "execution_count": 8,
   "metadata": {},
   "outputs": [
    {
     "data": {
      "text/html": [
       "<div>\n",
       "<style scoped>\n",
       "    .dataframe tbody tr th:only-of-type {\n",
       "        vertical-align: middle;\n",
       "    }\n",
       "\n",
       "    .dataframe tbody tr th {\n",
       "        vertical-align: top;\n",
       "    }\n",
       "\n",
       "    .dataframe thead th {\n",
       "        text-align: right;\n",
       "    }\n",
       "</style>\n",
       "<table border=\"1\" class=\"dataframe\">\n",
       "  <thead>\n",
       "    <tr style=\"text-align: right;\">\n",
       "      <th></th>\n",
       "      <th>Restaurant_id</th>\n",
       "      <th>City</th>\n",
       "      <th>Cuisine Style</th>\n",
       "      <th>Ranking</th>\n",
       "      <th>Price Range</th>\n",
       "      <th>Number of Reviews</th>\n",
       "      <th>Reviews</th>\n",
       "      <th>URL_TA</th>\n",
       "      <th>ID_TA</th>\n",
       "    </tr>\n",
       "  </thead>\n",
       "  <tbody>\n",
       "    <tr>\n",
       "      <th>0</th>\n",
       "      <td>id_0</td>\n",
       "      <td>Paris</td>\n",
       "      <td>['Bar', 'Pub']</td>\n",
       "      <td>12963.0</td>\n",
       "      <td>$$ - $$$</td>\n",
       "      <td>4.0</td>\n",
       "      <td>[[], []]</td>\n",
       "      <td>/Restaurant_Review-g187147-d10746918-Reviews-L...</td>\n",
       "      <td>d10746918</td>\n",
       "    </tr>\n",
       "    <tr>\n",
       "      <th>1</th>\n",
       "      <td>id_1</td>\n",
       "      <td>Helsinki</td>\n",
       "      <td>['European', 'Scandinavian', 'Gluten Free Opti...</td>\n",
       "      <td>106.0</td>\n",
       "      <td>$$ - $$$</td>\n",
       "      <td>97.0</td>\n",
       "      <td>[['Very good reviews!', 'Fine dining in Hakani...</td>\n",
       "      <td>/Restaurant_Review-g189934-d6674944-Reviews-Ra...</td>\n",
       "      <td>d6674944</td>\n",
       "    </tr>\n",
       "    <tr>\n",
       "      <th>2</th>\n",
       "      <td>id_2</td>\n",
       "      <td>Edinburgh</td>\n",
       "      <td>['Vegetarian Friendly']</td>\n",
       "      <td>810.0</td>\n",
       "      <td>$$ - $$$</td>\n",
       "      <td>28.0</td>\n",
       "      <td>[['Better than the Links', 'Ivy Black'], ['12/...</td>\n",
       "      <td>/Restaurant_Review-g186525-d13129638-Reviews-B...</td>\n",
       "      <td>d13129638</td>\n",
       "    </tr>\n",
       "    <tr>\n",
       "      <th>3</th>\n",
       "      <td>id_3</td>\n",
       "      <td>London</td>\n",
       "      <td>['Italian', 'Mediterranean', 'European', 'Vege...</td>\n",
       "      <td>1669.0</td>\n",
       "      <td>$$$$</td>\n",
       "      <td>202.0</td>\n",
       "      <td>[['Most exquisite', 'Delicious and authentic']...</td>\n",
       "      <td>/Restaurant_Review-g186338-d680417-Reviews-Qui...</td>\n",
       "      <td>d680417</td>\n",
       "    </tr>\n",
       "    <tr>\n",
       "      <th>4</th>\n",
       "      <td>id_4</td>\n",
       "      <td>Bratislava</td>\n",
       "      <td>['Italian', 'Mediterranean', 'European', 'Seaf...</td>\n",
       "      <td>37.0</td>\n",
       "      <td>$$$$</td>\n",
       "      <td>162.0</td>\n",
       "      <td>[['Always the best in bratislava', 'Very good ...</td>\n",
       "      <td>/Restaurant_Review-g274924-d1112354-Reviews-Ma...</td>\n",
       "      <td>d1112354</td>\n",
       "    </tr>\n",
       "  </tbody>\n",
       "</table>\n",
       "</div>"
      ],
      "text/plain": [
       "  Restaurant_id        City  \\\n",
       "0          id_0       Paris   \n",
       "1          id_1    Helsinki   \n",
       "2          id_2   Edinburgh   \n",
       "3          id_3      London   \n",
       "4          id_4  Bratislava   \n",
       "\n",
       "                                       Cuisine Style  Ranking Price Range  \\\n",
       "0                                     ['Bar', 'Pub']  12963.0    $$ - $$$   \n",
       "1  ['European', 'Scandinavian', 'Gluten Free Opti...    106.0    $$ - $$$   \n",
       "2                            ['Vegetarian Friendly']    810.0    $$ - $$$   \n",
       "3  ['Italian', 'Mediterranean', 'European', 'Vege...   1669.0        $$$$   \n",
       "4  ['Italian', 'Mediterranean', 'European', 'Seaf...     37.0        $$$$   \n",
       "\n",
       "   Number of Reviews                                            Reviews  \\\n",
       "0                4.0                                           [[], []]   \n",
       "1               97.0  [['Very good reviews!', 'Fine dining in Hakani...   \n",
       "2               28.0  [['Better than the Links', 'Ivy Black'], ['12/...   \n",
       "3              202.0  [['Most exquisite', 'Delicious and authentic']...   \n",
       "4              162.0  [['Always the best in bratislava', 'Very good ...   \n",
       "\n",
       "                                              URL_TA      ID_TA  \n",
       "0  /Restaurant_Review-g187147-d10746918-Reviews-L...  d10746918  \n",
       "1  /Restaurant_Review-g189934-d6674944-Reviews-Ra...   d6674944  \n",
       "2  /Restaurant_Review-g186525-d13129638-Reviews-B...  d13129638  \n",
       "3  /Restaurant_Review-g186338-d680417-Reviews-Qui...    d680417  \n",
       "4  /Restaurant_Review-g274924-d1112354-Reviews-Ma...   d1112354  "
      ]
     },
     "execution_count": 8,
     "metadata": {},
     "output_type": "execute_result"
    }
   ],
   "source": [
    "df_test.head(5)"
   ]
  },
  {
   "cell_type": "code",
   "execution_count": 9,
   "metadata": {},
   "outputs": [
    {
     "data": {
      "text/html": [
       "<div>\n",
       "<style scoped>\n",
       "    .dataframe tbody tr th:only-of-type {\n",
       "        vertical-align: middle;\n",
       "    }\n",
       "\n",
       "    .dataframe tbody tr th {\n",
       "        vertical-align: top;\n",
       "    }\n",
       "\n",
       "    .dataframe thead th {\n",
       "        text-align: right;\n",
       "    }\n",
       "</style>\n",
       "<table border=\"1\" class=\"dataframe\">\n",
       "  <thead>\n",
       "    <tr style=\"text-align: right;\">\n",
       "      <th></th>\n",
       "      <th>Restaurant_id</th>\n",
       "      <th>Rating</th>\n",
       "    </tr>\n",
       "  </thead>\n",
       "  <tbody>\n",
       "    <tr>\n",
       "      <th>0</th>\n",
       "      <td>id_0</td>\n",
       "      <td>2.0</td>\n",
       "    </tr>\n",
       "    <tr>\n",
       "      <th>1</th>\n",
       "      <td>id_1</td>\n",
       "      <td>2.5</td>\n",
       "    </tr>\n",
       "    <tr>\n",
       "      <th>2</th>\n",
       "      <td>id_2</td>\n",
       "      <td>4.0</td>\n",
       "    </tr>\n",
       "    <tr>\n",
       "      <th>3</th>\n",
       "      <td>id_3</td>\n",
       "      <td>1.0</td>\n",
       "    </tr>\n",
       "    <tr>\n",
       "      <th>4</th>\n",
       "      <td>id_4</td>\n",
       "      <td>4.0</td>\n",
       "    </tr>\n",
       "  </tbody>\n",
       "</table>\n",
       "</div>"
      ],
      "text/plain": [
       "  Restaurant_id  Rating\n",
       "0          id_0     2.0\n",
       "1          id_1     2.5\n",
       "2          id_2     4.0\n",
       "3          id_3     1.0\n",
       "4          id_4     4.0"
      ]
     },
     "execution_count": 9,
     "metadata": {},
     "output_type": "execute_result"
    }
   ],
   "source": [
    "sample_submission.head(5)"
   ]
  },
  {
   "cell_type": "code",
   "execution_count": 10,
   "metadata": {},
   "outputs": [
    {
     "name": "stdout",
     "output_type": "stream",
     "text": [
      "<class 'pandas.core.frame.DataFrame'>\n",
      "RangeIndex: 10000 entries, 0 to 9999\n",
      "Data columns (total 2 columns):\n",
      "Restaurant_id    10000 non-null object\n",
      "Rating           10000 non-null float64\n",
      "dtypes: float64(1), object(1)\n",
      "memory usage: 156.4+ KB\n"
     ]
    }
   ],
   "source": [
    "sample_submission.info()"
   ]
  },
  {
   "cell_type": "code",
   "execution_count": 11,
   "metadata": {},
   "outputs": [],
   "source": [
    "# For correct feature processing, we combine the training and testing datasets into one dataset\n",
    "df_train['sample'] = 1 # training dataset\n",
    "df_test['sample'] = 0 # testing dataset\n",
    "df_test['Rating'] = 0 # in the test, we don't have a Rating value, we have to predict it, so for now we just fill it with zeros\n",
    "\n",
    "data = df_test.append(df_train, sort=False).reset_index(drop=True) # объединяем"
   ]
  },
  {
   "cell_type": "markdown",
   "metadata": {},
   "source": [
    "More about features:\n",
    "\n",
    "* City: City \n",
    "* Cuisine Style: Cuisine Style\n",
    "* Ranking: The rank of the restaurant is relative to other restaurants in this city\n",
    "* Price Range: Restaurant prices in 3 categories\n",
    "* Number of Reviews: Number of reviews\n",
    "* Reviews: 2 most recent reviews and the dates of those reviews\n",
    "* URL_TA: page of the restaurant on 'www.tripadvisor.com' \n",
    "* ID_TA: ID restaurant on TripAdvisor\n",
    "* Rating: The restaurant's rating"
   ]
  },
  {
   "cell_type": "markdown",
   "metadata": {},
   "source": [
    "# Cleaning and Prepping Data"
   ]
  },
  {
   "cell_type": "markdown",
   "metadata": {},
   "source": [
    "## 1. Processing NAN \n",
    "There may be different reasons for the presence of omissions, the omissions must either be filled in or excluded from the set completely. But with omissions, you need to be careful, since even the lack of information can be an important sign!\n",
    "Therefore, before processing NAN, it is better to take out information about the presence of a pass as a separate feature "
   ]
  },
  {
   "cell_type": "code",
   "execution_count": 12,
   "metadata": {},
   "outputs": [
    {
     "name": "stdout",
     "output_type": "stream",
     "text": [
      "<class 'pandas.core.frame.DataFrame'>\n",
      "RangeIndex: 50000 entries, 0 to 49999\n",
      "Data columns (total 11 columns):\n",
      "Restaurant_id        50000 non-null object\n",
      "City                 50000 non-null object\n",
      "Cuisine Style        38410 non-null object\n",
      "Ranking              50000 non-null float64\n",
      "Price Range          32639 non-null object\n",
      "Number of Reviews    46800 non-null float64\n",
      "Reviews              49998 non-null object\n",
      "URL_TA               50000 non-null object\n",
      "ID_TA                50000 non-null object\n",
      "sample               50000 non-null int64\n",
      "Rating               50000 non-null float64\n",
      "dtypes: float64(3), int64(1), object(7)\n",
      "memory usage: 4.2+ MB\n"
     ]
    }
   ],
   "source": [
    "data.info()"
   ]
  },
  {
   "cell_type": "markdown",
   "metadata": {},
   "source": [
    "Fill in the empty values"
   ]
  },
  {
   "cell_type": "markdown",
   "metadata": {},
   "source": [
    "Feature Cuisine Style"
   ]
  },
  {
   "cell_type": "code",
   "execution_count": 13,
   "metadata": {},
   "outputs": [
    {
     "data": {
      "text/plain": [
       "0                                           ['Bar', 'Pub']\n",
       "1        ['European', 'Scandinavian', 'Gluten Free Opti...\n",
       "2                                  ['Vegetarian Friendly']\n",
       "3        ['Italian', 'Mediterranean', 'European', 'Vege...\n",
       "4        ['Italian', 'Mediterranean', 'European', 'Seaf...\n",
       "                               ...                        \n",
       "49995    ['Italian', 'Vegetarian Friendly', 'Vegan Opti...\n",
       "49996    ['French', 'American', 'Bar', 'European', 'Veg...\n",
       "49997                                ['Japanese', 'Sushi']\n",
       "49998    ['Polish', 'European', 'Eastern European', 'Ce...\n",
       "49999                                          ['Spanish']\n",
       "Name: Cuisine Style, Length: 50000, dtype: object"
      ]
     },
     "execution_count": 13,
     "metadata": {},
     "output_type": "execute_result"
    }
   ],
   "source": [
    "data['Cuisine Style']"
   ]
  },
  {
   "cell_type": "code",
   "execution_count": 14,
   "metadata": {},
   "outputs": [
    {
     "data": {
      "text/plain": [
       "['Italian']                                                                                                                         1332\n",
       "['French']                                                                                                                          1019\n",
       "['Spanish']                                                                                                                          860\n",
       "['French', 'European']                                                                                                               503\n",
       "['Cafe']                                                                                                                             500\n",
       "                                                                                                                                    ... \n",
       "['Central European', 'European', 'Hungarian']                                                                                          1\n",
       "['Cafe', 'British', 'Healthy', 'Gluten Free Options', 'Vegetarian Friendly', 'Vegan Options']                                          1\n",
       "['Italian', 'Seafood', 'International', 'European', 'Mediterranean', 'Central European', 'Vegetarian Friendly', 'Vegan Options']       1\n",
       "['Japanese', 'Soups', 'Vegetarian Friendly']                                                                                           1\n",
       "['Seafood', 'International', 'Asian', 'Chinese', 'Japanese', 'Sushi', 'Vegetarian Friendly']                                           1\n",
       "Name: Cuisine Style, Length: 10731, dtype: int64"
      ]
     },
     "execution_count": 14,
     "metadata": {},
     "output_type": "execute_result"
    }
   ],
   "source": [
    "data['Cuisine Style'].value_counts()"
   ]
  },
  {
   "cell_type": "markdown",
   "metadata": {},
   "source": [
    "Saveing the null values, filling in the empty ones"
   ]
  },
  {
   "cell_type": "code",
   "execution_count": 15,
   "metadata": {},
   "outputs": [],
   "source": [
    "data['NAN_Cuisine Style'] = pd.isna(data['Cuisine Style']).astype('float64')\n",
    "data['Cuisine Style'].fillna(\"['Other']\", inplace=True)"
   ]
  },
  {
   "cell_type": "code",
   "execution_count": 16,
   "metadata": {},
   "outputs": [
    {
     "name": "stdout",
     "output_type": "stream",
     "text": [
      "<class 'pandas.core.frame.DataFrame'>\n",
      "RangeIndex: 50000 entries, 0 to 49999\n",
      "Data columns (total 12 columns):\n",
      "Restaurant_id        50000 non-null object\n",
      "City                 50000 non-null object\n",
      "Cuisine Style        50000 non-null object\n",
      "Ranking              50000 non-null float64\n",
      "Price Range          32639 non-null object\n",
      "Number of Reviews    46800 non-null float64\n",
      "Reviews              49998 non-null object\n",
      "URL_TA               50000 non-null object\n",
      "ID_TA                50000 non-null object\n",
      "sample               50000 non-null int64\n",
      "Rating               50000 non-null float64\n",
      "NAN_Cuisine Style    50000 non-null float64\n",
      "dtypes: float64(4), int64(1), object(7)\n",
      "memory usage: 4.6+ MB\n"
     ]
    }
   ],
   "source": [
    "data.info()"
   ]
  },
  {
   "cell_type": "markdown",
   "metadata": {},
   "source": [
    "Feature Price Range"
   ]
  },
  {
   "cell_type": "code",
   "execution_count": 17,
   "metadata": {},
   "outputs": [],
   "source": [
    "data['NAN_Price Range'] = pd.isna(data['Price Range']).astype('float64')\n",
    "\n",
    "data['Price Range'] = data['Price Range'].fillna(0)\n"
   ]
  },
  {
   "cell_type": "code",
   "execution_count": 18,
   "metadata": {},
   "outputs": [
    {
     "name": "stdout",
     "output_type": "stream",
     "text": [
      "<class 'pandas.core.frame.DataFrame'>\n",
      "RangeIndex: 50000 entries, 0 to 49999\n",
      "Data columns (total 13 columns):\n",
      "Restaurant_id        50000 non-null object\n",
      "City                 50000 non-null object\n",
      "Cuisine Style        50000 non-null object\n",
      "Ranking              50000 non-null float64\n",
      "Price Range          50000 non-null object\n",
      "Number of Reviews    46800 non-null float64\n",
      "Reviews              49998 non-null object\n",
      "URL_TA               50000 non-null object\n",
      "ID_TA                50000 non-null object\n",
      "sample               50000 non-null int64\n",
      "Rating               50000 non-null float64\n",
      "NAN_Cuisine Style    50000 non-null float64\n",
      "NAN_Price Range      50000 non-null float64\n",
      "dtypes: float64(5), int64(1), object(7)\n",
      "memory usage: 5.0+ MB\n"
     ]
    }
   ],
   "source": [
    "data.info()"
   ]
  },
  {
   "cell_type": "markdown",
   "metadata": {},
   "source": [
    "Feature Number of Reviews"
   ]
  },
  {
   "cell_type": "code",
   "execution_count": 19,
   "metadata": {},
   "outputs": [],
   "source": [
    "data['NAN_Number_of_Reviews_is'] = pd.isna(data['Number of Reviews']).astype('float64')"
   ]
  },
  {
   "cell_type": "code",
   "execution_count": 20,
   "metadata": {},
   "outputs": [],
   "source": [
    "# Filling in the empty ones with zeros\n",
    "data['Number of Reviews'].fillna(0, inplace=True)"
   ]
  },
  {
   "cell_type": "code",
   "execution_count": 21,
   "metadata": {},
   "outputs": [
    {
     "name": "stdout",
     "output_type": "stream",
     "text": [
      "<class 'pandas.core.frame.DataFrame'>\n",
      "RangeIndex: 50000 entries, 0 to 49999\n",
      "Data columns (total 14 columns):\n",
      "Restaurant_id               50000 non-null object\n",
      "City                        50000 non-null object\n",
      "Cuisine Style               50000 non-null object\n",
      "Ranking                     50000 non-null float64\n",
      "Price Range                 50000 non-null object\n",
      "Number of Reviews           50000 non-null float64\n",
      "Reviews                     49998 non-null object\n",
      "URL_TA                      50000 non-null object\n",
      "ID_TA                       50000 non-null object\n",
      "sample                      50000 non-null int64\n",
      "Rating                      50000 non-null float64\n",
      "NAN_Cuisine Style           50000 non-null float64\n",
      "NAN_Price Range             50000 non-null float64\n",
      "NAN_Number_of_Reviews_is    50000 non-null float64\n",
      "dtypes: float64(6), int64(1), object(7)\n",
      "memory usage: 5.3+ MB\n"
     ]
    }
   ],
   "source": [
    "data.info()"
   ]
  },
  {
   "cell_type": "code",
   "execution_count": 22,
   "metadata": {},
   "outputs": [],
   "source": [
    "data['NAN_Reviews'] = pd.isna(data['Reviews']).astype('float64')\n",
    "data['Reviews'].fillna(\"[[], []]\", inplace=True)"
   ]
  },
  {
   "cell_type": "code",
   "execution_count": 23,
   "metadata": {},
   "outputs": [
    {
     "name": "stdout",
     "output_type": "stream",
     "text": [
      "<class 'pandas.core.frame.DataFrame'>\n",
      "RangeIndex: 50000 entries, 0 to 49999\n",
      "Data columns (total 15 columns):\n",
      "Restaurant_id               50000 non-null object\n",
      "City                        50000 non-null object\n",
      "Cuisine Style               50000 non-null object\n",
      "Ranking                     50000 non-null float64\n",
      "Price Range                 50000 non-null object\n",
      "Number of Reviews           50000 non-null float64\n",
      "Reviews                     50000 non-null object\n",
      "URL_TA                      50000 non-null object\n",
      "ID_TA                       50000 non-null object\n",
      "sample                      50000 non-null int64\n",
      "Rating                      50000 non-null float64\n",
      "NAN_Cuisine Style           50000 non-null float64\n",
      "NAN_Price Range             50000 non-null float64\n",
      "NAN_Number_of_Reviews_is    50000 non-null float64\n",
      "NAN_Reviews                 50000 non-null float64\n",
      "dtypes: float64(7), int64(1), object(7)\n",
      "memory usage: 5.7+ MB\n"
     ]
    }
   ],
   "source": [
    "data.info()"
   ]
  },
  {
   "cell_type": "markdown",
   "metadata": {},
   "source": [
    "### 2. Feature processing"
   ]
  },
  {
   "cell_type": "markdown",
   "metadata": {},
   "source": [
    "Restaurant_id"
   ]
  },
  {
   "cell_type": "code",
   "execution_count": 24,
   "metadata": {},
   "outputs": [
    {
     "data": {
      "text/plain": [
       "id_227      19\n",
       "id_633      19\n",
       "id_436      19\n",
       "id_871      19\n",
       "id_321      18\n",
       "            ..\n",
       "id_12361     1\n",
       "id_13927     1\n",
       "id_14539     1\n",
       "id_7401      1\n",
       "id_5669      1\n",
       "Name: Restaurant_id, Length: 13094, dtype: int64"
      ]
     },
     "execution_count": 24,
     "metadata": {},
     "output_type": "execute_result"
    }
   ],
   "source": [
    "data.Restaurant_id.value_counts()"
   ]
  },
  {
   "cell_type": "markdown",
   "metadata": {},
   "source": [
    "This feature may depend on the order in which the restaurant is added, and this may affect the rating. Leave it by converting"
   ]
  },
  {
   "cell_type": "code",
   "execution_count": 25,
   "metadata": {},
   "outputs": [],
   "source": [
    "def change_id(x):\n",
    "    if 'id_' in str(x):\n",
    "        return str(x).replace('id_', '')\n",
    "    else: return x\n",
    "data.Restaurant_id = data.Restaurant_id.apply(change_id)\n",
    "data.Restaurant_id = pd.to_numeric(data.Restaurant_id)"
   ]
  },
  {
   "cell_type": "code",
   "execution_count": 26,
   "metadata": {},
   "outputs": [
    {
     "name": "stdout",
     "output_type": "stream",
     "text": [
      "<class 'pandas.core.frame.DataFrame'>\n",
      "RangeIndex: 50000 entries, 0 to 49999\n",
      "Data columns (total 15 columns):\n",
      "Restaurant_id               50000 non-null int64\n",
      "City                        50000 non-null object\n",
      "Cuisine Style               50000 non-null object\n",
      "Ranking                     50000 non-null float64\n",
      "Price Range                 50000 non-null object\n",
      "Number of Reviews           50000 non-null float64\n",
      "Reviews                     50000 non-null object\n",
      "URL_TA                      50000 non-null object\n",
      "ID_TA                       50000 non-null object\n",
      "sample                      50000 non-null int64\n",
      "Rating                      50000 non-null float64\n",
      "NAN_Cuisine Style           50000 non-null float64\n",
      "NAN_Price Range             50000 non-null float64\n",
      "NAN_Number_of_Reviews_is    50000 non-null float64\n",
      "NAN_Reviews                 50000 non-null float64\n",
      "dtypes: float64(7), int64(2), object(6)\n",
      "memory usage: 5.7+ MB\n"
     ]
    }
   ],
   "source": [
    "data.info()"
   ]
  },
  {
   "cell_type": "markdown",
   "metadata": {},
   "source": [
    "Feature 'City'"
   ]
  },
  {
   "cell_type": "code",
   "execution_count": 27,
   "metadata": {},
   "outputs": [
    {
     "data": {
      "text/plain": [
       "London        7193\n",
       "Paris         6108\n",
       "Madrid        3813\n",
       "Barcelona     3395\n",
       "Berlin        2705\n",
       "Milan         2694\n",
       "Rome          2589\n",
       "Prague        1816\n",
       "Lisbon        1647\n",
       "Vienna        1443\n",
       "Amsterdam     1372\n",
       "Brussels      1314\n",
       "Hamburg       1186\n",
       "Munich        1145\n",
       "Lyon          1126\n",
       "Stockholm     1033\n",
       "Budapest      1021\n",
       "Warsaw         925\n",
       "Dublin         836\n",
       "Copenhagen     819\n",
       "Athens         776\n",
       "Edinburgh      745\n",
       "Zurich         685\n",
       "Oporto         642\n",
       "Geneva         590\n",
       "Krakow         554\n",
       "Oslo           488\n",
       "Helsinki       475\n",
       "Bratislava     380\n",
       "Luxembourg     263\n",
       "Ljubljana      222\n",
       "Name: City, dtype: int64"
      ]
     },
     "execution_count": 27,
     "metadata": {},
     "output_type": "execute_result"
    }
   ],
   "source": [
    "data.City.value_counts()"
   ]
  },
  {
   "cell_type": "code",
   "execution_count": 28,
   "metadata": {},
   "outputs": [],
   "source": [
    "data['City_origin'] = data['City']"
   ]
  },
  {
   "cell_type": "code",
   "execution_count": 29,
   "metadata": {},
   "outputs": [],
   "source": [
    "#data = pd.get_dummies(data, columns=[ 'City',], dummy_na=True)"
   ]
  },
  {
   "cell_type": "code",
   "execution_count": 30,
   "metadata": {},
   "outputs": [
    {
     "name": "stdout",
     "output_type": "stream",
     "text": [
      "<class 'pandas.core.frame.DataFrame'>\n",
      "RangeIndex: 50000 entries, 0 to 49999\n",
      "Data columns (total 16 columns):\n",
      "Restaurant_id               50000 non-null int64\n",
      "City                        50000 non-null object\n",
      "Cuisine Style               50000 non-null object\n",
      "Ranking                     50000 non-null float64\n",
      "Price Range                 50000 non-null object\n",
      "Number of Reviews           50000 non-null float64\n",
      "Reviews                     50000 non-null object\n",
      "URL_TA                      50000 non-null object\n",
      "ID_TA                       50000 non-null object\n",
      "sample                      50000 non-null int64\n",
      "Rating                      50000 non-null float64\n",
      "NAN_Cuisine Style           50000 non-null float64\n",
      "NAN_Price Range             50000 non-null float64\n",
      "NAN_Number_of_Reviews_is    50000 non-null float64\n",
      "NAN_Reviews                 50000 non-null float64\n",
      "City_origin                 50000 non-null object\n",
      "dtypes: float64(7), int64(2), object(7)\n",
      "memory usage: 6.1+ MB\n"
     ]
    }
   ],
   "source": [
    "data.info()"
   ]
  },
  {
   "cell_type": "markdown",
   "metadata": {},
   "source": [
    "Feature 'Cuisine Style'"
   ]
  },
  {
   "cell_type": "code",
   "execution_count": 31,
   "metadata": {},
   "outputs": [
    {
     "data": {
      "text/plain": [
       "str"
      ]
     },
     "execution_count": 31,
     "metadata": {},
     "output_type": "execute_result"
    }
   ],
   "source": [
    "type(data['Cuisine Style'].iloc[0])"
   ]
  },
  {
   "cell_type": "code",
   "execution_count": 32,
   "metadata": {},
   "outputs": [],
   "source": [
    "data['Cuisine Style'] = data['Cuisine Style'].apply(lambda x: re.findall('\\w+\\s*\\w+\\s*\\w+', str(x)))"
   ]
  },
  {
   "cell_type": "code",
   "execution_count": 33,
   "metadata": {},
   "outputs": [
    {
     "data": {
      "text/plain": [
       "list"
      ]
     },
     "execution_count": 33,
     "metadata": {},
     "output_type": "execute_result"
    }
   ],
   "source": [
    "type(data['Cuisine Style'].iloc[15])"
   ]
  },
  {
   "cell_type": "code",
   "execution_count": 34,
   "metadata": {},
   "outputs": [
    {
     "name": "stdout",
     "output_type": "stream",
     "text": [
      "<class 'pandas.core.frame.DataFrame'>\n",
      "RangeIndex: 50000 entries, 0 to 49999\n",
      "Data columns (total 16 columns):\n",
      "Restaurant_id               50000 non-null int64\n",
      "City                        50000 non-null object\n",
      "Cuisine Style               50000 non-null object\n",
      "Ranking                     50000 non-null float64\n",
      "Price Range                 50000 non-null object\n",
      "Number of Reviews           50000 non-null float64\n",
      "Reviews                     50000 non-null object\n",
      "URL_TA                      50000 non-null object\n",
      "ID_TA                       50000 non-null object\n",
      "sample                      50000 non-null int64\n",
      "Rating                      50000 non-null float64\n",
      "NAN_Cuisine Style           50000 non-null float64\n",
      "NAN_Price Range             50000 non-null float64\n",
      "NAN_Number_of_Reviews_is    50000 non-null float64\n",
      "NAN_Reviews                 50000 non-null float64\n",
      "City_origin                 50000 non-null object\n",
      "dtypes: float64(7), int64(2), object(7)\n",
      "memory usage: 6.1+ MB\n"
     ]
    }
   ],
   "source": [
    "data.info()"
   ]
  },
  {
   "cell_type": "markdown",
   "metadata": {},
   "source": [
    "Feature 'Ranking'"
   ]
  },
  {
   "cell_type": "code",
   "execution_count": 35,
   "metadata": {},
   "outputs": [
    {
     "data": {
      "text/plain": [
       "93.0       22\n",
       "72.0       21\n",
       "491.0      21\n",
       "842.0      21\n",
       "1013.0     20\n",
       "           ..\n",
       "8027.0      1\n",
       "10415.0     1\n",
       "14621.0     1\n",
       "11766.0     1\n",
       "10585.0     1\n",
       "Name: Ranking, Length: 12975, dtype: int64"
      ]
     },
     "execution_count": 35,
     "metadata": {},
     "output_type": "execute_result"
    }
   ],
   "source": [
    "data.Ranking.value_counts()"
   ]
  },
  {
   "cell_type": "markdown",
   "metadata": {},
   "source": [
    "Leaving as it is"
   ]
  },
  {
   "cell_type": "code",
   "execution_count": 36,
   "metadata": {},
   "outputs": [
    {
     "data": {
      "text/plain": [
       "$$ - $$$    23041\n",
       "0           17361\n",
       "$            7816\n",
       "$$$$         1782\n",
       "Name: Price Range, dtype: int64"
      ]
     },
     "execution_count": 36,
     "metadata": {},
     "output_type": "execute_result"
    }
   ],
   "source": [
    "data['Price Range'].value_counts()"
   ]
  },
  {
   "cell_type": "code",
   "execution_count": 37,
   "metadata": {},
   "outputs": [
    {
     "data": {
      "text/plain": [
       "2    23041\n",
       "0    17361\n",
       "1     7816\n",
       "3     1782\n",
       "Name: Price Range, dtype: int64"
      ]
     },
     "execution_count": 37,
     "metadata": {},
     "output_type": "execute_result"
    }
   ],
   "source": [
    "#Converting\n",
    "\n",
    "price_dict = {\"0\": 0, \"$\": 1, \"$$ - $$$\": 2, \"$$$$\": 3}\n",
    "\n",
    "data['Price Range'] = data['Price Range'].replace(to_replace=price_dict)\n",
    "data['Price Range'].value_counts()"
   ]
  },
  {
   "cell_type": "markdown",
   "metadata": {},
   "source": [
    "Feature 'Number of Reviews'"
   ]
  },
  {
   "cell_type": "code",
   "execution_count": 38,
   "metadata": {},
   "outputs": [
    {
     "data": {
      "text/plain": [
       "0.0       3200\n",
       "2.0       2403\n",
       "3.0       2042\n",
       "4.0       1707\n",
       "5.0       1471\n",
       "          ... \n",
       "5216.0       1\n",
       "1932.0       1\n",
       "1050.0       1\n",
       "1145.0       1\n",
       "1471.0       1\n",
       "Name: Number of Reviews, Length: 1574, dtype: int64"
      ]
     },
     "execution_count": 38,
     "metadata": {},
     "output_type": "execute_result"
    }
   ],
   "source": [
    "data['Number of Reviews'].value_counts()"
   ]
  },
  {
   "cell_type": "markdown",
   "metadata": {},
   "source": [
    "****Reviews"
   ]
  },
  {
   "cell_type": "code",
   "execution_count": 39,
   "metadata": {},
   "outputs": [
    {
     "data": {
      "text/plain": [
       "str"
      ]
     },
     "execution_count": 39,
     "metadata": {},
     "output_type": "execute_result"
    }
   ],
   "source": [
    "type(data.Reviews.iloc[0])"
   ]
  },
  {
   "cell_type": "code",
   "execution_count": 40,
   "metadata": {},
   "outputs": [
    {
     "data": {
      "text/plain": [
       "[[], []]                                                                                                                              8114\n",
       "[['Great food, service and atmosphere', 'Decor and food'], ['11/06/2017', '10/22/2017']]                                                 2\n",
       "[['Delicious soup', 'My weekly treat'], ['03/19/2017', '07/30/2017']]                                                                    2\n",
       "[['Good Paella', 'Good enough. Nothing more'], ['09/20/2017', '05/29/2017']]                                                             2\n",
       "[['Simply Excellent!', 'Modern!'], ['10/22/2017', '08/29/2017']]                                                                         2\n",
       "                                                                                                                                      ... \n",
       "[['Excellent restaurant both for lunch and di...', 'not sure if its French - but still very go...'], ['03/28/2012', '06/11/2011']]       1\n",
       "[['Pleasant craft beer pub', 'Amazing place with great location and staf...'], ['08/23/2017', '07/13/2017']]                             1\n",
       "[['Dining in Churchtown Dublin 14', \"I'm afraid it's just an ok.\"], ['01/24/2017', '01/14/2017']]                                        1\n",
       "[['Very nice place', 'the real deal'], ['11/06/2017', '11/02/2016']]                                                                     1\n",
       "[['Nothing out of the ordinary, but nothing w...', 'Disapointed'], ['10/29/2017', '07/15/2017']]                                         1\n",
       "Name: Reviews, Length: 41857, dtype: int64"
      ]
     },
     "execution_count": 40,
     "metadata": {},
     "output_type": "execute_result"
    }
   ],
   "source": [
    "data['Reviews'].value_counts()"
   ]
  },
  {
   "cell_type": "code",
   "execution_count": 41,
   "metadata": {},
   "outputs": [],
   "source": [
    "def fill_na_reviews(x):\n",
    "    if x == '[[], []]':\n",
    "        return None\n",
    "    else:\n",
    "        return x\n",
    "data['Reviews'] = data['Reviews'].fillna(fill_na_reviews)"
   ]
  },
  {
   "cell_type": "code",
   "execution_count": 42,
   "metadata": {},
   "outputs": [],
   "source": [
    "data['Review_date'] = data['Reviews'].str.findall('\\d+/\\d+/\\d+')\n"
   ]
  },
  {
   "cell_type": "code",
   "execution_count": 43,
   "metadata": {},
   "outputs": [
    {
     "data": {
      "text/plain": [
       "0                              []\n",
       "1        [12/05/2017, 10/29/2017]\n",
       "2        [12/28/2017, 12/06/2017]\n",
       "3        [12/06/2017, 11/22/2017]\n",
       "4        [02/08/2018, 01/24/2018]\n",
       "                   ...           \n",
       "49995    [12/16/2017, 11/12/2017]\n",
       "49996    [12/21/2017, 12/12/2017]\n",
       "49997    [11/03/2016, 04/12/2008]\n",
       "49998    [07/11/2017, 06/18/2017]\n",
       "49999    [01/31/2016, 07/04/2012]\n",
       "Name: Review_date, Length: 50000, dtype: object"
      ]
     },
     "execution_count": 43,
     "metadata": {},
     "output_type": "execute_result"
    }
   ],
   "source": [
    "data['Review_date']"
   ]
  },
  {
   "cell_type": "code",
   "execution_count": 44,
   "metadata": {},
   "outputs": [
    {
     "name": "stdout",
     "output_type": "stream",
     "text": [
      "<class 'pandas.core.frame.DataFrame'>\n",
      "RangeIndex: 50000 entries, 0 to 49999\n",
      "Data columns (total 17 columns):\n",
      "Restaurant_id               50000 non-null int64\n",
      "City                        50000 non-null object\n",
      "Cuisine Style               50000 non-null object\n",
      "Ranking                     50000 non-null float64\n",
      "Price Range                 50000 non-null int64\n",
      "Number of Reviews           50000 non-null float64\n",
      "Reviews                     50000 non-null object\n",
      "URL_TA                      50000 non-null object\n",
      "ID_TA                       50000 non-null object\n",
      "sample                      50000 non-null int64\n",
      "Rating                      50000 non-null float64\n",
      "NAN_Cuisine Style           50000 non-null float64\n",
      "NAN_Price Range             50000 non-null float64\n",
      "NAN_Number_of_Reviews_is    50000 non-null float64\n",
      "NAN_Reviews                 50000 non-null float64\n",
      "City_origin                 50000 non-null object\n",
      "Review_date                 50000 non-null object\n",
      "dtypes: float64(7), int64(3), object(7)\n",
      "memory usage: 6.5+ MB\n"
     ]
    }
   ],
   "source": [
    "data.info()"
   ]
  },
  {
   "cell_type": "code",
   "execution_count": 45,
   "metadata": {},
   "outputs": [
    {
     "data": {
      "text/plain": [
       "0        /Restaurant_Review-g187147-d10746918-Reviews-L...\n",
       "1        /Restaurant_Review-g189934-d6674944-Reviews-Ra...\n",
       "2        /Restaurant_Review-g186525-d13129638-Reviews-B...\n",
       "3        /Restaurant_Review-g186338-d680417-Reviews-Qui...\n",
       "4        /Restaurant_Review-g274924-d1112354-Reviews-Ma...\n",
       "                               ...                        \n",
       "49995    /Restaurant_Review-g187849-d2104414-Reviews-Ro...\n",
       "49996    /Restaurant_Review-g187147-d1800036-Reviews-La...\n",
       "49997    /Restaurant_Review-g189852-d947615-Reviews-Sus...\n",
       "49998    /Restaurant_Review-g274856-d1100838-Reviews-Ho...\n",
       "49999    /Restaurant_Review-g187849-d1109020-Reviews-Ta...\n",
       "Name: URL_TA, Length: 50000, dtype: object"
      ]
     },
     "execution_count": 45,
     "metadata": {},
     "output_type": "execute_result"
    }
   ],
   "source": [
    "data.URL_TA"
   ]
  },
  {
   "cell_type": "code",
   "execution_count": 46,
   "metadata": {},
   "outputs": [],
   "source": [
    "data.drop(['URL_TA'], axis=1, inplace=True)"
   ]
  },
  {
   "cell_type": "code",
   "execution_count": 47,
   "metadata": {},
   "outputs": [
    {
     "name": "stdout",
     "output_type": "stream",
     "text": [
      "<class 'pandas.core.frame.DataFrame'>\n",
      "RangeIndex: 50000 entries, 0 to 49999\n",
      "Data columns (total 16 columns):\n",
      "Restaurant_id               50000 non-null int64\n",
      "City                        50000 non-null object\n",
      "Cuisine Style               50000 non-null object\n",
      "Ranking                     50000 non-null float64\n",
      "Price Range                 50000 non-null int64\n",
      "Number of Reviews           50000 non-null float64\n",
      "Reviews                     50000 non-null object\n",
      "ID_TA                       50000 non-null object\n",
      "sample                      50000 non-null int64\n",
      "Rating                      50000 non-null float64\n",
      "NAN_Cuisine Style           50000 non-null float64\n",
      "NAN_Price Range             50000 non-null float64\n",
      "NAN_Number_of_Reviews_is    50000 non-null float64\n",
      "NAN_Reviews                 50000 non-null float64\n",
      "City_origin                 50000 non-null object\n",
      "Review_date                 50000 non-null object\n",
      "dtypes: float64(7), int64(3), object(6)\n",
      "memory usage: 6.1+ MB\n"
     ]
    }
   ],
   "source": [
    "data.info()"
   ]
  },
  {
   "cell_type": "code",
   "execution_count": 48,
   "metadata": {},
   "outputs": [
    {
     "data": {
      "text/plain": [
       "0        d10746918\n",
       "1         d6674944\n",
       "2        d13129638\n",
       "3          d680417\n",
       "4         d1112354\n",
       "           ...    \n",
       "49995     d2104414\n",
       "49996     d1800036\n",
       "49997      d947615\n",
       "49998     d1100838\n",
       "49999     d1109020\n",
       "Name: ID_TA, Length: 50000, dtype: object"
      ]
     },
     "execution_count": 48,
     "metadata": {},
     "output_type": "execute_result"
    }
   ],
   "source": [
    "data.ID_TA"
   ]
  },
  {
   "cell_type": "markdown",
   "metadata": {},
   "source": [
    "While we do not know whether it will be necessary, we convert feature to a numeric feature"
   ]
  },
  {
   "cell_type": "code",
   "execution_count": 49,
   "metadata": {},
   "outputs": [],
   "source": [
    "def change_id_TA(x):\n",
    "    if 'd' in str(x):\n",
    "        return str(x).replace('d', '')\n",
    "    else: return x\n",
    "data.ID_TA = data.ID_TA.apply(change_id_TA)\n",
    "data.ID_TA = pd.to_numeric(data.ID_TA)"
   ]
  },
  {
   "cell_type": "code",
   "execution_count": 50,
   "metadata": {},
   "outputs": [
    {
     "name": "stdout",
     "output_type": "stream",
     "text": [
      "<class 'pandas.core.frame.DataFrame'>\n",
      "RangeIndex: 50000 entries, 0 to 49999\n",
      "Data columns (total 16 columns):\n",
      "Restaurant_id               50000 non-null int64\n",
      "City                        50000 non-null object\n",
      "Cuisine Style               50000 non-null object\n",
      "Ranking                     50000 non-null float64\n",
      "Price Range                 50000 non-null int64\n",
      "Number of Reviews           50000 non-null float64\n",
      "Reviews                     50000 non-null object\n",
      "ID_TA                       50000 non-null int64\n",
      "sample                      50000 non-null int64\n",
      "Rating                      50000 non-null float64\n",
      "NAN_Cuisine Style           50000 non-null float64\n",
      "NAN_Price Range             50000 non-null float64\n",
      "NAN_Number_of_Reviews_is    50000 non-null float64\n",
      "NAN_Reviews                 50000 non-null float64\n",
      "City_origin                 50000 non-null object\n",
      "Review_date                 50000 non-null object\n",
      "dtypes: float64(7), int64(4), object(5)\n",
      "memory usage: 6.1+ MB\n"
     ]
    }
   ],
   "source": [
    "data.info()"
   ]
  },
  {
   "cell_type": "markdown",
   "metadata": {},
   "source": [
    "# Feature Engeneering"
   ]
  },
  {
   "cell_type": "code",
   "execution_count": 51,
   "metadata": {},
   "outputs": [
    {
     "data": {
      "text/plain": [
       "Index(['Restaurant_id', 'City', 'Cuisine Style', 'Ranking', 'Price Range',\n",
       "       'Number of Reviews', 'Reviews', 'ID_TA', 'sample', 'Rating',\n",
       "       'NAN_Cuisine Style', 'NAN_Price Range', 'NAN_Number_of_Reviews_is',\n",
       "       'NAN_Reviews', 'City_origin', 'Review_date'],\n",
       "      dtype='object')"
      ]
     },
     "execution_count": 51,
     "metadata": {},
     "output_type": "execute_result"
    }
   ],
   "source": [
    "data.columns"
   ]
  },
  {
   "cell_type": "code",
   "execution_count": 52,
   "metadata": {},
   "outputs": [],
   "source": [
    "cuisines = set()\n",
    "\n",
    "for i in data['Cuisine Style']:\n",
    "    for j in i:\n",
    "        cuisines.add(j)"
   ]
  },
  {
   "cell_type": "code",
   "execution_count": 53,
   "metadata": {},
   "outputs": [
    {
     "data": {
      "text/plain": [
       "{'Afghani',\n",
       " 'African',\n",
       " 'Albanian',\n",
       " 'American',\n",
       " 'Arabic',\n",
       " 'Argentinean',\n",
       " 'Armenian',\n",
       " 'Asian',\n",
       " 'Australian',\n",
       " 'Austrian',\n",
       " 'Azerbaijani',\n",
       " 'Balti',\n",
       " 'Bangladeshi',\n",
       " 'Bar',\n",
       " 'Barbecue',\n",
       " 'Belgian',\n",
       " 'Brazilian',\n",
       " 'Brew Pub',\n",
       " 'British',\n",
       " 'Burmese',\n",
       " 'Cafe',\n",
       " 'Cajun',\n",
       " 'Cambodian',\n",
       " 'Canadian',\n",
       " 'Caribbean',\n",
       " 'Caucasian',\n",
       " 'Central American',\n",
       " 'Central Asian',\n",
       " 'Central European',\n",
       " 'Chilean',\n",
       " 'Chinese',\n",
       " 'Colombian',\n",
       " 'Contemporary',\n",
       " 'Creole',\n",
       " 'Croatian',\n",
       " 'Cuban',\n",
       " 'Czech',\n",
       " 'Danish',\n",
       " 'Delicatessen',\n",
       " 'Diner',\n",
       " 'Dutch',\n",
       " 'Eastern European',\n",
       " 'Ecuadorean',\n",
       " 'Egyptian',\n",
       " 'Ethiopian',\n",
       " 'European',\n",
       " 'Fast Food',\n",
       " 'Filipino',\n",
       " 'French',\n",
       " 'Fujian',\n",
       " 'Fusion',\n",
       " 'Gastropub',\n",
       " 'Georgian',\n",
       " 'German',\n",
       " 'Gluten Free Options',\n",
       " 'Greek',\n",
       " 'Grill',\n",
       " 'Halal',\n",
       " 'Hawaiian',\n",
       " 'Healthy',\n",
       " 'Hungarian',\n",
       " 'Indian',\n",
       " 'Indonesian',\n",
       " 'International',\n",
       " 'Irish',\n",
       " 'Israeli',\n",
       " 'Italian',\n",
       " 'Jamaican',\n",
       " 'Japanese',\n",
       " 'Korean',\n",
       " 'Kosher',\n",
       " 'Latin',\n",
       " 'Latvian',\n",
       " 'Lebanese',\n",
       " 'Malaysian',\n",
       " 'Mediterranean',\n",
       " 'Mexican',\n",
       " 'Middle Eastern',\n",
       " 'Minority Chinese',\n",
       " 'Mongolian',\n",
       " 'Moroccan',\n",
       " 'Native American',\n",
       " 'Nepali',\n",
       " 'New Zealand',\n",
       " 'Norwegian',\n",
       " 'Other',\n",
       " 'Pakistani',\n",
       " 'Persian',\n",
       " 'Peruvian',\n",
       " 'Pizza',\n",
       " 'Polish',\n",
       " 'Polynesian',\n",
       " 'Portuguese',\n",
       " 'Pub',\n",
       " 'Romanian',\n",
       " 'Russian',\n",
       " 'Salvadoran',\n",
       " 'Scandinavian',\n",
       " 'Scottish',\n",
       " 'Seafood',\n",
       " 'Singaporean',\n",
       " 'Slovenian',\n",
       " 'Soups',\n",
       " 'South American',\n",
       " 'Southwestern',\n",
       " 'Spanish',\n",
       " 'Sri Lankan',\n",
       " 'Steakhouse',\n",
       " 'Street Food',\n",
       " 'Sushi',\n",
       " 'Swedish',\n",
       " 'Swiss',\n",
       " 'Taiwanese',\n",
       " 'Thai',\n",
       " 'Tibetan',\n",
       " 'Tunisian',\n",
       " 'Turkish',\n",
       " 'Ukrainian',\n",
       " 'Uzbek',\n",
       " 'Vegan Options',\n",
       " 'Vegetarian Friendly',\n",
       " 'Venezuelan',\n",
       " 'Vietnamese',\n",
       " 'Welsh',\n",
       " 'Wine Bar',\n",
       " 'Xinjiang',\n",
       " 'Yunnan'}"
      ]
     },
     "execution_count": 53,
     "metadata": {},
     "output_type": "execute_result"
    }
   ],
   "source": [
    "cuisines"
   ]
  },
  {
   "cell_type": "code",
   "execution_count": 54,
   "metadata": {},
   "outputs": [],
   "source": [
    "food = {}  # creating an empty dictionary to store information about ingredients\n",
    "for item in cuisines:  # sorting through the list of ingredients\n",
    "    # add the key corresponding to the next ingredient to the dictionary\n",
    "    food[item] = 0\n",
    "\n",
    "for i in data['Cuisine Style']:   # going through the list of recipes\n",
    "    for j in i:   # and through the list of ingredients in recipes\n",
    "        food[j] += 1   # increase the value of the desired key in the dictionary by 1"
   ]
  },
  {
   "cell_type": "code",
   "execution_count": 55,
   "metadata": {},
   "outputs": [
    {
     "data": {
      "text/plain": [
       "{'Southwestern': 24,\n",
       " 'Brew Pub': 299,\n",
       " 'Arabic': 58,\n",
       " 'Taiwanese': 30,\n",
       " 'Filipino': 17,\n",
       " 'Pub': 3058,\n",
       " 'Vietnamese': 622,\n",
       " 'Armenian': 17,\n",
       " 'British': 1992,\n",
       " 'Korean': 206,\n",
       " 'Afghani': 27,\n",
       " 'Irish': 352,\n",
       " 'Peruvian': 130,\n",
       " 'Greek': 768,\n",
       " 'Chilean': 16,\n",
       " 'Scandinavian': 449,\n",
       " 'Halal': 773,\n",
       " 'Venezuelan': 51,\n",
       " 'Danish': 225,\n",
       " 'Jamaican': 36,\n",
       " 'Romanian': 13,\n",
       " 'Albanian': 8,\n",
       " 'Tibetan': 29,\n",
       " 'Barbecue': 710,\n",
       " 'Fujian': 2,\n",
       " 'Australian': 36,\n",
       " 'Eastern European': 629,\n",
       " 'Middle Eastern': 980,\n",
       " 'Pakistani': 140,\n",
       " 'Sri Lankan': 30,\n",
       " 'Mongolian': 20,\n",
       " 'Latin': 373,\n",
       " 'Norwegian': 96,\n",
       " 'Xinjiang': 1,\n",
       " 'Canadian': 7,\n",
       " 'Minority Chinese': 12,\n",
       " 'Moroccan': 173,\n",
       " 'German': 820,\n",
       " 'Austrian': 462,\n",
       " 'Diner': 375,\n",
       " 'Healthy': 758,\n",
       " 'Asian': 3786,\n",
       " 'Welsh': 3,\n",
       " 'Grill': 617,\n",
       " 'French': 3970,\n",
       " 'Argentinean': 214,\n",
       " 'Bangladeshi': 100,\n",
       " 'Georgian': 18,\n",
       " 'Caucasian': 4,\n",
       " 'Gluten Free Options': 5185,\n",
       " 'Salvadoran': 1,\n",
       " 'Cajun': 27,\n",
       " 'American': 1642,\n",
       " 'Central European': 1727,\n",
       " 'Yunnan': 2,\n",
       " 'Vegetarian Friendly': 14021,\n",
       " 'Colombian': 30,\n",
       " 'Pizza': 3502,\n",
       " 'Croatian': 33,\n",
       " 'Caribbean': 124,\n",
       " 'Lebanese': 397,\n",
       " 'Hawaiian': 23,\n",
       " 'Kosher': 56,\n",
       " 'Hungarian': 444,\n",
       " 'Spanish': 3456,\n",
       " 'Slovenian': 85,\n",
       " 'Mexican': 572,\n",
       " 'Tunisian': 23,\n",
       " 'Burmese': 1,\n",
       " 'Native American': 5,\n",
       " 'Israeli': 90,\n",
       " 'Ethiopian': 51,\n",
       " 'Brazilian': 152,\n",
       " 'Cafe': 2883,\n",
       " 'Latvian': 1,\n",
       " 'Swedish': 223,\n",
       " 'Central Asian': 12,\n",
       " 'Dutch': 368,\n",
       " 'Azerbaijani': 3,\n",
       " 'Wine Bar': 877,\n",
       " 'Indonesian': 71,\n",
       " 'Central American': 168,\n",
       " 'Fast Food': 2122,\n",
       " 'Egyptian': 24,\n",
       " 'Belgian': 335,\n",
       " 'Czech': 745,\n",
       " 'Mediterranean': 7820,\n",
       " 'Cuban': 32,\n",
       " 'New Zealand': 7,\n",
       " 'Steakhouse': 729,\n",
       " 'International': 1966,\n",
       " 'Indian': 1328,\n",
       " 'European': 12561,\n",
       " 'Seafood': 1878,\n",
       " 'Gastropub': 608,\n",
       " 'African': 193,\n",
       " 'Portuguese': 1385,\n",
       " 'Ecuadorean': 8,\n",
       " 'Soups': 630,\n",
       " 'Russian': 66,\n",
       " 'Thai': 923,\n",
       " 'Ukrainian': 20,\n",
       " 'Street Food': 336,\n",
       " 'Other': 11590,\n",
       " 'Turkish': 574,\n",
       " 'Polish': 453,\n",
       " 'Singaporean': 21,\n",
       " 'Scottish': 199,\n",
       " 'Sushi': 1450,\n",
       " 'Persian': 77,\n",
       " 'Uzbek': 5,\n",
       " 'Cambodian': 22,\n",
       " 'Fusion': 748,\n",
       " 'Nepali': 121,\n",
       " 'Balti': 104,\n",
       " 'South American': 490,\n",
       " 'Chinese': 1446,\n",
       " 'Japanese': 1860,\n",
       " 'Delicatessen': 473,\n",
       " 'Polynesian': 2,\n",
       " 'Italian': 7433,\n",
       " 'Contemporary': 652,\n",
       " 'Vegan Options': 5684,\n",
       " 'Bar': 4094,\n",
       " 'Swiss': 223,\n",
       " 'Creole': 27,\n",
       " 'Malaysian': 38}"
      ]
     },
     "execution_count": 55,
     "metadata": {},
     "output_type": "execute_result"
    }
   ],
   "source": [
    "food"
   ]
  },
  {
   "cell_type": "code",
   "execution_count": 56,
   "metadata": {},
   "outputs": [
    {
     "data": {
      "text/plain": [
       "['Pub',\n",
       " 'Asian',\n",
       " 'French',\n",
       " 'Gluten Free Options',\n",
       " 'Vegetarian Friendly',\n",
       " 'Pizza',\n",
       " 'Spanish',\n",
       " 'Mediterranean',\n",
       " 'European',\n",
       " 'Other',\n",
       " 'Italian',\n",
       " 'Vegan Options',\n",
       " 'Bar']"
      ]
     },
     "execution_count": 56,
     "metadata": {},
     "output_type": "execute_result"
    }
   ],
   "source": [
    "pop_cuisine = []\n",
    "for key, value in food.items():\n",
    "    if value > 3000:\n",
    "        pop_cuisine.append(key)\n",
    "pop_cuisine"
   ]
  },
  {
   "cell_type": "code",
   "execution_count": 57,
   "metadata": {},
   "outputs": [
    {
     "data": {
      "text/plain": [
       "list"
      ]
     },
     "execution_count": 57,
     "metadata": {},
     "output_type": "execute_result"
    }
   ],
   "source": [
    "type(data['Cuisine Style'].iloc[0])"
   ]
  },
  {
   "cell_type": "code",
   "execution_count": 58,
   "metadata": {},
   "outputs": [],
   "source": [
    "def popular_cuisine(x):\n",
    "    for element in pop_cuisine:\n",
    "        if element in x:\n",
    "            return 1\n",
    "        else:\n",
    "            continue\n",
    "data['Popular_cuisine'] = data['Cuisine Style'].apply(popular_cuisine)"
   ]
  },
  {
   "cell_type": "code",
   "execution_count": 59,
   "metadata": {},
   "outputs": [
    {
     "data": {
      "text/plain": [
       "1.0    43646\n",
       "NaN     6354\n",
       "Name: Popular_cuisine, dtype: int64"
      ]
     },
     "execution_count": 59,
     "metadata": {},
     "output_type": "execute_result"
    }
   ],
   "source": [
    "data['Popular_cuisine'].value_counts(dropna = False)"
   ]
  },
  {
   "cell_type": "code",
   "execution_count": 60,
   "metadata": {},
   "outputs": [],
   "source": [
    "data['Popular_cuisine'].fillna(0, inplace = True)"
   ]
  },
  {
   "cell_type": "code",
   "execution_count": 61,
   "metadata": {},
   "outputs": [
    {
     "name": "stdout",
     "output_type": "stream",
     "text": [
      "<class 'pandas.core.frame.DataFrame'>\n",
      "RangeIndex: 50000 entries, 0 to 49999\n",
      "Data columns (total 17 columns):\n",
      "Restaurant_id               50000 non-null int64\n",
      "City                        50000 non-null object\n",
      "Cuisine Style               50000 non-null object\n",
      "Ranking                     50000 non-null float64\n",
      "Price Range                 50000 non-null int64\n",
      "Number of Reviews           50000 non-null float64\n",
      "Reviews                     50000 non-null object\n",
      "ID_TA                       50000 non-null int64\n",
      "sample                      50000 non-null int64\n",
      "Rating                      50000 non-null float64\n",
      "NAN_Cuisine Style           50000 non-null float64\n",
      "NAN_Price Range             50000 non-null float64\n",
      "NAN_Number_of_Reviews_is    50000 non-null float64\n",
      "NAN_Reviews                 50000 non-null float64\n",
      "City_origin                 50000 non-null object\n",
      "Review_date                 50000 non-null object\n",
      "Popular_cuisine             50000 non-null float64\n",
      "dtypes: float64(8), int64(4), object(5)\n",
      "memory usage: 6.5+ MB\n"
     ]
    }
   ],
   "source": [
    "data.info()"
   ]
  },
  {
   "cell_type": "code",
   "execution_count": 62,
   "metadata": {},
   "outputs": [],
   "source": [
    "data['Count_cuisines'] = data['Cuisine Style'].apply(lambda x: len(x))"
   ]
  },
  {
   "cell_type": "code",
   "execution_count": 63,
   "metadata": {},
   "outputs": [
    {
     "data": {
      "text/plain": [
       "1     20738\n",
       "2      7797\n",
       "3      6635\n",
       "4      5948\n",
       "5      4486\n",
       "6      2611\n",
       "7      1294\n",
       "8       365\n",
       "9        93\n",
       "10       26\n",
       "11        4\n",
       "21        1\n",
       "15        1\n",
       "13        1\n",
       "Name: Count_cuisines, dtype: int64"
      ]
     },
     "execution_count": 63,
     "metadata": {},
     "output_type": "execute_result"
    }
   ],
   "source": [
    "data['Count_cuisines'].value_counts(dropna=False)"
   ]
  },
  {
   "cell_type": "code",
   "execution_count": 64,
   "metadata": {},
   "outputs": [
    {
     "name": "stdout",
     "output_type": "stream",
     "text": [
      "<class 'pandas.core.frame.DataFrame'>\n",
      "RangeIndex: 50000 entries, 0 to 49999\n",
      "Data columns (total 18 columns):\n",
      "Restaurant_id               50000 non-null int64\n",
      "City                        50000 non-null object\n",
      "Cuisine Style               50000 non-null object\n",
      "Ranking                     50000 non-null float64\n",
      "Price Range                 50000 non-null int64\n",
      "Number of Reviews           50000 non-null float64\n",
      "Reviews                     50000 non-null object\n",
      "ID_TA                       50000 non-null int64\n",
      "sample                      50000 non-null int64\n",
      "Rating                      50000 non-null float64\n",
      "NAN_Cuisine Style           50000 non-null float64\n",
      "NAN_Price Range             50000 non-null float64\n",
      "NAN_Number_of_Reviews_is    50000 non-null float64\n",
      "NAN_Reviews                 50000 non-null float64\n",
      "City_origin                 50000 non-null object\n",
      "Review_date                 50000 non-null object\n",
      "Popular_cuisine             50000 non-null float64\n",
      "Count_cuisines              50000 non-null int64\n",
      "dtypes: float64(8), int64(5), object(5)\n",
      "memory usage: 6.9+ MB\n"
     ]
    }
   ],
   "source": [
    "data.info()"
   ]
  },
  {
   "cell_type": "markdown",
   "metadata": {},
   "source": [
    "****Reviews"
   ]
  },
  {
   "cell_type": "code",
   "execution_count": 65,
   "metadata": {},
   "outputs": [
    {
     "data": {
      "text/plain": [
       "2    36202\n",
       "0     8114\n",
       "1     5680\n",
       "3        4\n",
       "Name: len_of_reviews, dtype: int64"
      ]
     },
     "execution_count": 65,
     "metadata": {},
     "output_type": "execute_result"
    }
   ],
   "source": [
    "data['Review_date'] = data['Reviews'].str.findall('\\d+/\\d+/\\d+')\n",
    "data['len_of_reviews'] = data['Review_date'].apply(lambda x: x if x == None else len(x))\n",
    "data['len_of_reviews'].value_counts(dropna = False)"
   ]
  },
  {
   "cell_type": "code",
   "execution_count": 66,
   "metadata": {},
   "outputs": [],
   "source": [
    "data['len_of_reviews'].fillna(2, inplace = True)"
   ]
  },
  {
   "cell_type": "code",
   "execution_count": 67,
   "metadata": {},
   "outputs": [],
   "source": [
    "def days_to_now(row):\n",
    "    if row['Review_date'] == None:\n",
    "        return None\n",
    "    return datetime.datetime.now() - pd.to_datetime(row['Review_date']).max()\n",
    "\n",
    "def days_between_reviews(row):\n",
    "    if row['Review_date'] == None:\n",
    "        return None\n",
    "    return pd.to_datetime(row['Review_date']).max() - pd.to_datetime(row['Review_date']).min()\n",
    "\n",
    "data['Days_to_now'] = data.apply(days_to_now, axis = 1).dt.days\n",
    "data['Days_between_reviews'] = data[data['len_of_reviews']==2].apply(days_between_reviews, axis = 1).dt.days\n"
   ]
  },
  {
   "cell_type": "code",
   "execution_count": 68,
   "metadata": {},
   "outputs": [
    {
     "name": "stdout",
     "output_type": "stream",
     "text": [
      "<class 'pandas.core.frame.DataFrame'>\n",
      "RangeIndex: 50000 entries, 0 to 49999\n",
      "Data columns (total 21 columns):\n",
      "Restaurant_id               50000 non-null int64\n",
      "City                        50000 non-null object\n",
      "Cuisine Style               50000 non-null object\n",
      "Ranking                     50000 non-null float64\n",
      "Price Range                 50000 non-null int64\n",
      "Number of Reviews           50000 non-null float64\n",
      "Reviews                     50000 non-null object\n",
      "ID_TA                       50000 non-null int64\n",
      "sample                      50000 non-null int64\n",
      "Rating                      50000 non-null float64\n",
      "NAN_Cuisine Style           50000 non-null float64\n",
      "NAN_Price Range             50000 non-null float64\n",
      "NAN_Number_of_Reviews_is    50000 non-null float64\n",
      "NAN_Reviews                 50000 non-null float64\n",
      "City_origin                 50000 non-null object\n",
      "Review_date                 50000 non-null object\n",
      "Popular_cuisine             50000 non-null float64\n",
      "Count_cuisines              50000 non-null int64\n",
      "len_of_reviews              50000 non-null int64\n",
      "Days_to_now                 41886 non-null float64\n",
      "Days_between_reviews        36202 non-null float64\n",
      "dtypes: float64(10), int64(6), object(5)\n",
      "memory usage: 8.0+ MB\n"
     ]
    }
   ],
   "source": [
    "data.info()"
   ]
  },
  {
   "cell_type": "code",
   "execution_count": 69,
   "metadata": {},
   "outputs": [
    {
     "data": {
      "text/plain": [
       "NaN       13798\n",
       "1.0         829\n",
       "0.0         631\n",
       "2.0         629\n",
       "3.0         606\n",
       "          ...  \n",
       "1924.0        1\n",
       "1554.0        1\n",
       "1335.0        1\n",
       "1576.0        1\n",
       "1543.0        1\n",
       "Name: Days_between_reviews, Length: 1311, dtype: int64"
      ]
     },
     "execution_count": 69,
     "metadata": {},
     "output_type": "execute_result"
    }
   ],
   "source": [
    "data['Days_between_reviews'].value_counts(dropna = False)"
   ]
  },
  {
   "cell_type": "code",
   "execution_count": 70,
   "metadata": {},
   "outputs": [],
   "source": [
    "data['Days_to_now'] = data['Days_to_now'].fillna(data['Days_to_now'].median())\n",
    "data['Days_between_reviews'] = data['Days_between_reviews'].fillna(data['Days_between_reviews'].median())\n"
   ]
  },
  {
   "cell_type": "code",
   "execution_count": 71,
   "metadata": {},
   "outputs": [
    {
     "name": "stdout",
     "output_type": "stream",
     "text": [
      "<class 'pandas.core.frame.DataFrame'>\n",
      "RangeIndex: 50000 entries, 0 to 49999\n",
      "Data columns (total 21 columns):\n",
      "Restaurant_id               50000 non-null int64\n",
      "City                        50000 non-null object\n",
      "Cuisine Style               50000 non-null object\n",
      "Ranking                     50000 non-null float64\n",
      "Price Range                 50000 non-null int64\n",
      "Number of Reviews           50000 non-null float64\n",
      "Reviews                     50000 non-null object\n",
      "ID_TA                       50000 non-null int64\n",
      "sample                      50000 non-null int64\n",
      "Rating                      50000 non-null float64\n",
      "NAN_Cuisine Style           50000 non-null float64\n",
      "NAN_Price Range             50000 non-null float64\n",
      "NAN_Number_of_Reviews_is    50000 non-null float64\n",
      "NAN_Reviews                 50000 non-null float64\n",
      "City_origin                 50000 non-null object\n",
      "Review_date                 50000 non-null object\n",
      "Popular_cuisine             50000 non-null float64\n",
      "Count_cuisines              50000 non-null int64\n",
      "len_of_reviews              50000 non-null int64\n",
      "Days_to_now                 50000 non-null float64\n",
      "Days_between_reviews        50000 non-null float64\n",
      "dtypes: float64(10), int64(6), object(5)\n",
      "memory usage: 8.0+ MB\n"
     ]
    }
   ],
   "source": [
    "data.info()"
   ]
  },
  {
   "cell_type": "markdown",
   "metadata": {},
   "source": [
    "Feature 'City Origin'"
   ]
  },
  {
   "cell_type": "code",
   "execution_count": 72,
   "metadata": {},
   "outputs": [
    {
     "data": {
      "text/plain": [
       "London        7193\n",
       "Paris         6108\n",
       "Madrid        3813\n",
       "Barcelona     3395\n",
       "Berlin        2705\n",
       "Milan         2694\n",
       "Rome          2589\n",
       "Prague        1816\n",
       "Lisbon        1647\n",
       "Vienna        1443\n",
       "Amsterdam     1372\n",
       "Brussels      1314\n",
       "Hamburg       1186\n",
       "Munich        1145\n",
       "Lyon          1126\n",
       "Stockholm     1033\n",
       "Budapest      1021\n",
       "Warsaw         925\n",
       "Dublin         836\n",
       "Copenhagen     819\n",
       "Athens         776\n",
       "Edinburgh      745\n",
       "Zurich         685\n",
       "Oporto         642\n",
       "Geneva         590\n",
       "Krakow         554\n",
       "Oslo           488\n",
       "Helsinki       475\n",
       "Bratislava     380\n",
       "Luxembourg     263\n",
       "Ljubljana      222\n",
       "Name: City_origin, dtype: int64"
      ]
     },
     "execution_count": 72,
     "metadata": {},
     "output_type": "execute_result"
    }
   ],
   "source": [
    "data['City_origin'].value_counts()"
   ]
  },
  {
   "cell_type": "code",
   "execution_count": 73,
   "metadata": {},
   "outputs": [],
   "source": [
    "Сity_population_dict = {'London' : 8908, 'Paris' : 2206, 'Madrid' : 3223, 'Barcelona' : 1620, \n",
    "                        'Berlin' : 6010, 'Milan' : 1366, 'Rome' : 2872, 'Prague' : 1308, \n",
    "                        'Lisbon' : 506, 'Vienna' : 1888, 'Amsterdam' : 860, 'Brussels' : 179, \n",
    "                        'Hamburg' : 1841, 'Munich' : 1457, 'Lyon' : 506, 'Stockholm' : 961, \n",
    "                        'Budapest' : 1752, 'Warsaw' : 1764, 'Dublin' : 553, \n",
    "                        'Copenhagen' : 616, 'Athens' : 665, 'Edinburgh' : 513, \n",
    "                        'Zurich' : 415, 'Oporto' : 240, 'Geneva' : 201, 'Krakow' : 769, \n",
    "                        'Oslo' : 681, 'Helsinki' : 643, 'Bratislava' : 426, \n",
    "                        'Luxembourg' : 119, 'Ljubljana' : 284}\n",
    "data['Сity_population'] = data.apply(lambda row: Сity_population_dict[row['City_origin']], axis = 1)"
   ]
  },
  {
   "cell_type": "code",
   "execution_count": 74,
   "metadata": {},
   "outputs": [
    {
     "name": "stdout",
     "output_type": "stream",
     "text": [
      "<class 'pandas.core.frame.DataFrame'>\n",
      "RangeIndex: 50000 entries, 0 to 49999\n",
      "Data columns (total 22 columns):\n",
      "Restaurant_id               50000 non-null int64\n",
      "City                        50000 non-null object\n",
      "Cuisine Style               50000 non-null object\n",
      "Ranking                     50000 non-null float64\n",
      "Price Range                 50000 non-null int64\n",
      "Number of Reviews           50000 non-null float64\n",
      "Reviews                     50000 non-null object\n",
      "ID_TA                       50000 non-null int64\n",
      "sample                      50000 non-null int64\n",
      "Rating                      50000 non-null float64\n",
      "NAN_Cuisine Style           50000 non-null float64\n",
      "NAN_Price Range             50000 non-null float64\n",
      "NAN_Number_of_Reviews_is    50000 non-null float64\n",
      "NAN_Reviews                 50000 non-null float64\n",
      "City_origin                 50000 non-null object\n",
      "Review_date                 50000 non-null object\n",
      "Popular_cuisine             50000 non-null float64\n",
      "Count_cuisines              50000 non-null int64\n",
      "len_of_reviews              50000 non-null int64\n",
      "Days_to_now                 50000 non-null float64\n",
      "Days_between_reviews        50000 non-null float64\n",
      "Сity_population             50000 non-null int64\n",
      "dtypes: float64(10), int64(7), object(5)\n",
      "memory usage: 8.4+ MB\n"
     ]
    }
   ],
   "source": [
    "data.info()"
   ]
  },
  {
   "cell_type": "code",
   "execution_count": 75,
   "metadata": {},
   "outputs": [],
   "source": [
    "data['Сount_of_rest'] = data['City_origin'].map(data.groupby('City_origin')['Ranking'].max().to_dict())"
   ]
  },
  {
   "cell_type": "code",
   "execution_count": 76,
   "metadata": {},
   "outputs": [
    {
     "data": {
      "text/plain": [
       "16444.0    7193\n",
       "13986.0    6108\n",
       "8809.0     3813\n",
       "7796.0     3395\n",
       "6372.0     2705\n",
       "6275.0     2694\n",
       "5948.0     2589\n",
       "4188.0     1816\n",
       "3717.0     1647\n",
       "3444.0     1443\n",
       "3254.0     1372\n",
       "3006.0     1314\n",
       "2737.0     1186\n",
       "2763.0     1145\n",
       "2666.0     1126\n",
       "2464.0     1033\n",
       "2440.0     1021\n",
       "2154.0      925\n",
       "1960.0      836\n",
       "1964.0      819\n",
       "1787.0      776\n",
       "1766.0      745\n",
       "1601.0      685\n",
       "1484.0      642\n",
       "1413.0      590\n",
       "1244.0      554\n",
       "1137.0      488\n",
       "1141.0      475\n",
       "889.0       380\n",
       "621.0       263\n",
       "468.0       222\n",
       "Name: Сount_of_rest, dtype: int64"
      ]
     },
     "execution_count": 76,
     "metadata": {},
     "output_type": "execute_result"
    }
   ],
   "source": [
    "data['Сount_of_rest'].value_counts()"
   ]
  },
  {
   "cell_type": "code",
   "execution_count": 77,
   "metadata": {},
   "outputs": [],
   "source": [
    "data['Rest_on_person'] = data['Сity_population']/data['Сount_of_rest']"
   ]
  },
  {
   "cell_type": "code",
   "execution_count": 78,
   "metadata": {},
   "outputs": [
    {
     "data": {
      "text/plain": [
       "0        0.157729\n",
       "1        0.563541\n",
       "2        0.290487\n",
       "3        0.541717\n",
       "4        0.479190\n",
       "           ...   \n",
       "49995    0.217689\n",
       "49996    0.157729\n",
       "49997    0.390016\n",
       "49998    0.818942\n",
       "49999    0.217689\n",
       "Name: Rest_on_person, Length: 50000, dtype: float64"
      ]
     },
     "execution_count": 78,
     "metadata": {},
     "output_type": "execute_result"
    }
   ],
   "source": [
    "data['Rest_on_person']"
   ]
  },
  {
   "cell_type": "code",
   "execution_count": 79,
   "metadata": {},
   "outputs": [],
   "source": [
    "data['Ranking_on_city'] = data['Ranking'] / data['Сount_of_rest']"
   ]
  },
  {
   "cell_type": "code",
   "execution_count": 80,
   "metadata": {},
   "outputs": [
    {
     "name": "stdout",
     "output_type": "stream",
     "text": [
      "<class 'pandas.core.frame.DataFrame'>\n",
      "RangeIndex: 50000 entries, 0 to 49999\n",
      "Data columns (total 25 columns):\n",
      "Restaurant_id               50000 non-null int64\n",
      "City                        50000 non-null object\n",
      "Cuisine Style               50000 non-null object\n",
      "Ranking                     50000 non-null float64\n",
      "Price Range                 50000 non-null int64\n",
      "Number of Reviews           50000 non-null float64\n",
      "Reviews                     50000 non-null object\n",
      "ID_TA                       50000 non-null int64\n",
      "sample                      50000 non-null int64\n",
      "Rating                      50000 non-null float64\n",
      "NAN_Cuisine Style           50000 non-null float64\n",
      "NAN_Price Range             50000 non-null float64\n",
      "NAN_Number_of_Reviews_is    50000 non-null float64\n",
      "NAN_Reviews                 50000 non-null float64\n",
      "City_origin                 50000 non-null object\n",
      "Review_date                 50000 non-null object\n",
      "Popular_cuisine             50000 non-null float64\n",
      "Count_cuisines              50000 non-null int64\n",
      "len_of_reviews              50000 non-null int64\n",
      "Days_to_now                 50000 non-null float64\n",
      "Days_between_reviews        50000 non-null float64\n",
      "Сity_population             50000 non-null int64\n",
      "Сount_of_rest               50000 non-null float64\n",
      "Rest_on_person              50000 non-null float64\n",
      "Ranking_on_city             50000 non-null float64\n",
      "dtypes: float64(13), int64(7), object(5)\n",
      "memory usage: 9.5+ MB\n"
     ]
    }
   ],
   "source": [
    "data.info()"
   ]
  },
  {
   "cell_type": "markdown",
   "metadata": {},
   "source": [
    "# EDA - Exploratory data analysis"
   ]
  },
  {
   "cell_type": "code",
   "execution_count": 81,
   "metadata": {},
   "outputs": [
    {
     "data": {
      "text/plain": [
       "Index(['Restaurant_id', 'City', 'Cuisine Style', 'Ranking', 'Price Range',\n",
       "       'Number of Reviews', 'Reviews', 'ID_TA', 'sample', 'Rating',\n",
       "       'NAN_Cuisine Style', 'NAN_Price Range', 'NAN_Number_of_Reviews_is',\n",
       "       'NAN_Reviews', 'City_origin', 'Review_date', 'Popular_cuisine',\n",
       "       'Count_cuisines', 'len_of_reviews', 'Days_to_now',\n",
       "       'Days_between_reviews', 'Сity_population', 'Сount_of_rest',\n",
       "       'Rest_on_person', 'Ranking_on_city'],\n",
       "      dtype='object')"
      ]
     },
     "execution_count": 81,
     "metadata": {},
     "output_type": "execute_result"
    }
   ],
   "source": [
    "data.columns"
   ]
  },
  {
   "cell_type": "markdown",
   "metadata": {},
   "source": [
    "### Let's look at the distribution of the feature"
   ]
  },
  {
   "cell_type": "code",
   "execution_count": 82,
   "metadata": {},
   "outputs": [
    {
     "data": {
      "text/plain": [
       "<matplotlib.axes._subplots.AxesSubplot at 0x7f5f46e7fa58>"
      ]
     },
     "execution_count": 82,
     "metadata": {},
     "output_type": "execute_result"
    },
    {
     "data": {
      "image/png": "[encoded data removed]",
      "text/plain": [
       "<Figure size 1440x720 with 2 Axes>"
      ]
     },
     "metadata": {
      "needs_background": "light"
     },
     "output_type": "display_data"
    }
   ],
   "source": [
    "correlation = data[data['sample'] == 1][['Ranking', 'Price Range','Number of Reviews', 'Rating','Popular_cuisine', 'Count_cuisines', 'len_of_reviews', 'Days_to_now', 'Days_between_reviews', 'Сity_population', 'Сount_of_rest']].corr()\n",
    "plt.figure(figsize=(20, 10))\n",
    "sns.heatmap(correlation, annot=True, cmap='coolwarm')"
   ]
  },
  {
   "cell_type": "code",
   "execution_count": 83,
   "metadata": {},
   "outputs": [
    {
     "data": {
      "text/plain": [
       "<matplotlib.axes._subplots.AxesSubplot at 0x7f5f476f6eb8>"
      ]
     },
     "execution_count": 83,
     "metadata": {},
     "output_type": "execute_result"
    },
    {
     "data": {
      "image/png": "[encoded data removed]",
      "text/plain": [
       "<Figure size 720x504 with 1 Axes>"
      ]
     },
     "metadata": {
      "needs_background": "light"
     },
     "output_type": "display_data"
    }
   ],
   "source": [
    "plt.rcParams['figure.figsize'] = (10,7)\n",
    "df_train['Ranking'].hist(bins=100)"
   ]
  },
  {
   "cell_type": "code",
   "execution_count": 84,
   "metadata": {},
   "outputs": [
    {
     "data": {
      "text/plain": [
       "<matplotlib.axes._subplots.AxesSubplot at 0x7f5f475cad68>"
      ]
     },
     "execution_count": 84,
     "metadata": {},
     "output_type": "execute_result"
    },
    {
     "data": {
      "image/png": "[encoded data removed]",
      "text/plain": [
       "<Figure size 720x504 with 1 Axes>"
      ]
     },
     "metadata": {
      "needs_background": "light"
     },
     "output_type": "display_data"
    }
   ],
   "source": [
    "df_train['City'].value_counts(ascending=True).plot(kind='barh')"
   ]
  },
  {
   "cell_type": "markdown",
   "metadata": {},
   "source": [
    "Let's see how the distribution changes in a big city"
   ]
  },
  {
   "cell_type": "code",
   "execution_count": 85,
   "metadata": {},
   "outputs": [
    {
     "data": {
      "text/plain": [
       "<matplotlib.axes._subplots.AxesSubplot at 0x7f5f44cf14a8>"
      ]
     },
     "execution_count": 85,
     "metadata": {},
     "output_type": "execute_result"
    },
    {
     "data": {
      "image/png": "[encoded data removed]",
      "text/plain": [
       "<Figure size 720x504 with 1 Axes>"
      ]
     },
     "metadata": {
      "needs_background": "light"
     },
     "output_type": "display_data"
    }
   ],
   "source": [
    "df_train['Ranking'][df_train['City'] =='London'].hist(bins=100)"
   ]
  },
  {
   "cell_type": "code",
   "execution_count": 86,
   "metadata": {},
   "outputs": [
    {
     "data": {
      "image/png": "[encoded data removed]",
      "text/plain": [
       "<Figure size 720x504 with 1 Axes>"
      ]
     },
     "metadata": {
      "needs_background": "light"
     },
     "output_type": "display_data"
    }
   ],
   "source": [
    "# Let's see on top-10 cities\n",
    "for x in (df_train['City'].value_counts())[0:10].index:\n",
    "    df_train['Ranking'][df_train['City'] == x].hist(bins=100)\n",
    "plt.show()"
   ]
  },
  {
   "cell_type": "markdown",
   "metadata": {},
   "source": [
    "### Let's look at the distribution of the target variable"
   ]
  },
  {
   "cell_type": "code",
   "execution_count": 87,
   "metadata": {},
   "outputs": [
    {
     "data": {
      "text/plain": [
       "<matplotlib.axes._subplots.AxesSubplot at 0x7f5f46e18cc0>"
      ]
     },
     "execution_count": 87,
     "metadata": {},
     "output_type": "execute_result"
    },
    {
     "data": {
      "image/png": "[encoded data removed]",
      "text/plain": [
       "<Figure size 720x504 with 1 Axes>"
      ]
     },
     "metadata": {
      "needs_background": "light"
     },
     "output_type": "display_data"
    }
   ],
   "source": [
    "df_train['Rating'].value_counts(ascending=True).plot(kind='barh')"
   ]
  },
  {
   "cell_type": "markdown",
   "metadata": {},
   "source": [
    "### Let's look at the distribution of the target variable relative to the attribute"
   ]
  },
  {
   "cell_type": "code",
   "execution_count": 88,
   "metadata": {},
   "outputs": [
    {
     "data": {
      "text/plain": [
       "<matplotlib.axes._subplots.AxesSubplot at 0x7f5f46cd3828>"
      ]
     },
     "execution_count": 88,
     "metadata": {},
     "output_type": "execute_result"
    },
    {
     "data": {
      "image/png": "[encoded data removed]",
      "text/plain": [
       "<Figure size 720x504 with 1 Axes>"
      ]
     },
     "metadata": {
      "needs_background": "light"
     },
     "output_type": "display_data"
    }
   ],
   "source": [
    "df_train['Ranking'][df_train['Rating'] == 5].hist(bins=100)"
   ]
  },
  {
   "cell_type": "code",
   "execution_count": 89,
   "metadata": {},
   "outputs": [
    {
     "data": {
      "text/plain": [
       "<matplotlib.axes._subplots.AxesSubplot at 0x7f5f45b14fd0>"
      ]
     },
     "execution_count": 89,
     "metadata": {},
     "output_type": "execute_result"
    },
    {
     "data": {
      "image/png": "[encoded data removed]",
      "text/plain": [
       "<Figure size 720x504 with 1 Axes>"
      ]
     },
     "metadata": {
      "needs_background": "light"
     },
     "output_type": "display_data"
    }
   ],
   "source": [
    "df_train['Ranking'][df_train['Rating'] < 4].hist(bins=100)"
   ]
  },
  {
   "cell_type": "code",
   "execution_count": 90,
   "metadata": {},
   "outputs": [],
   "source": [
    "mn = data.groupby('City_origin')['Ranking'].mean()\n",
    "st = data.groupby('City_origin')['Ranking'].std()\n",
    "data['Std_Ranking'] = (data['Ranking'] - data['City_origin'].map(mn))/data['City_origin'].map(st)"
   ]
  },
  {
   "cell_type": "code",
   "execution_count": 91,
   "metadata": {},
   "outputs": [
    {
     "name": "stdout",
     "output_type": "stream",
     "text": [
      "<class 'pandas.core.frame.DataFrame'>\n",
      "RangeIndex: 50000 entries, 0 to 49999\n",
      "Data columns (total 26 columns):\n",
      "Restaurant_id               50000 non-null int64\n",
      "City                        50000 non-null object\n",
      "Cuisine Style               50000 non-null object\n",
      "Ranking                     50000 non-null float64\n",
      "Price Range                 50000 non-null int64\n",
      "Number of Reviews           50000 non-null float64\n",
      "Reviews                     50000 non-null object\n",
      "ID_TA                       50000 non-null int64\n",
      "sample                      50000 non-null int64\n",
      "Rating                      50000 non-null float64\n",
      "NAN_Cuisine Style           50000 non-null float64\n",
      "NAN_Price Range             50000 non-null float64\n",
      "NAN_Number_of_Reviews_is    50000 non-null float64\n",
      "NAN_Reviews                 50000 non-null float64\n",
      "City_origin                 50000 non-null object\n",
      "Review_date                 50000 non-null object\n",
      "Popular_cuisine             50000 non-null float64\n",
      "Count_cuisines              50000 non-null int64\n",
      "len_of_reviews              50000 non-null int64\n",
      "Days_to_now                 50000 non-null float64\n",
      "Days_between_reviews        50000 non-null float64\n",
      "Сity_population             50000 non-null int64\n",
      "Сount_of_rest               50000 non-null float64\n",
      "Rest_on_person              50000 non-null float64\n",
      "Ranking_on_city             50000 non-null float64\n",
      "Std_Ranking                 50000 non-null float64\n",
      "dtypes: float64(14), int64(7), object(5)\n",
      "memory usage: 9.9+ MB\n"
     ]
    }
   ],
   "source": [
    "data.info()"
   ]
  },
  {
   "cell_type": "markdown",
   "metadata": {},
   "source": [
    "# Data Preprocessing\n"
   ]
  },
  {
   "cell_type": "code",
   "execution_count": 92,
   "metadata": {},
   "outputs": [
    {
     "data": {
      "text/plain": [
       "Index(['Restaurant_id', 'City', 'Cuisine Style', 'Ranking', 'Price Range',\n",
       "       'Number of Reviews', 'Reviews', 'ID_TA', 'sample', 'Rating',\n",
       "       'NAN_Cuisine Style', 'NAN_Price Range', 'NAN_Number_of_Reviews_is',\n",
       "       'NAN_Reviews', 'City_origin', 'Review_date', 'Popular_cuisine',\n",
       "       'Count_cuisines', 'len_of_reviews', 'Days_to_now',\n",
       "       'Days_between_reviews', 'Сity_population', 'Сount_of_rest',\n",
       "       'Rest_on_person', 'Ranking_on_city', 'Std_Ranking'],\n",
       "      dtype='object')"
      ]
     },
     "execution_count": 92,
     "metadata": {},
     "output_type": "execute_result"
    }
   ],
   "source": [
    "data.columns"
   ]
  },
  {
   "cell_type": "code",
   "execution_count": 93,
   "metadata": {},
   "outputs": [],
   "source": [
    "data.drop(['Restaurant_id','NAN_Cuisine Style', 'NAN_Price Range', 'Cuisine Style', 'Reviews', 'ID_TA', 'NAN_Cuisine_Style', 'len_of_reviews','NAN_Price_Range', 'NAN_Number_of_Reviews_is','NAN_Reviews', 'City_origin', 'City', 'Review_date'], axis=1, inplace=True, errors='ignore')"
   ]
  },
  {
   "cell_type": "code",
   "execution_count": 94,
   "metadata": {},
   "outputs": [
    {
     "data": {
      "text/plain": [
       "Index(['Ranking', 'Price Range', 'Number of Reviews', 'sample', 'Rating',\n",
       "       'Popular_cuisine', 'Count_cuisines', 'Days_to_now',\n",
       "       'Days_between_reviews', 'Сity_population', 'Сount_of_rest',\n",
       "       'Rest_on_person', 'Ranking_on_city', 'Std_Ranking'],\n",
       "      dtype='object')"
      ]
     },
     "execution_count": 94,
     "metadata": {},
     "output_type": "execute_result"
    }
   ],
   "source": [
    "data.columns"
   ]
  },
  {
   "cell_type": "code",
   "execution_count": 95,
   "metadata": {},
   "outputs": [],
   "source": [
    "# Now select the test part\n",
    "train_data = data.query('sample == 1').drop(['sample'], axis=1)\n",
    "test_data = data.query('sample == 0').drop(['sample'], axis=1)\n",
    "\n",
    "y = train_data.Rating.values # our target\n",
    "X = train_data.drop(['Rating'], axis=1)"
   ]
  },
  {
   "cell_type": "markdown",
   "metadata": {},
   "source": [
    "Before sending our data for training, we will divide the data into another test and training for validation.\n",
    "This will help us check how well our model works before submitting a submission to kaggle."
   ]
  },
  {
   "cell_type": "code",
   "execution_count": 96,
   "metadata": {},
   "outputs": [],
   "source": [
    "# Let's use a special function train_test_split\n",
    "# we will allocate 20% of the data for validation (test_size parameter)\n",
    "X_train, X_test, y_train, y_test = train_test_split(\n",
    "    X, y, test_size=0.2, random_state=RANDOM_SEED)"
   ]
  },
  {
   "cell_type": "code",
   "execution_count": 97,
   "metadata": {},
   "outputs": [
    {
     "data": {
      "text/plain": [
       "((10000, 13), (40000, 13), (40000, 12), (32000, 12), (8000, 12))"
      ]
     },
     "execution_count": 97,
     "metadata": {},
     "output_type": "execute_result"
    }
   ],
   "source": [
    "# Let's check\n",
    "test_data.shape, train_data.shape, X.shape, X_train.shape, X_test.shape"
   ]
  },
  {
   "cell_type": "markdown",
   "metadata": {},
   "source": [
    "# Model \n",
    "ML"
   ]
  },
  {
   "cell_type": "code",
   "execution_count": 98,
   "metadata": {},
   "outputs": [],
   "source": [
    "# Importing the necessary libraries:\n",
    "from sklearn.ensemble import RandomForestRegressor # A tool for creating and training a model\n",
    "from sklearn import metrics # Tools for assessing the accuracy of the model"
   ]
  },
  {
   "cell_type": "code",
   "execution_count": 99,
   "metadata": {},
   "outputs": [],
   "source": [
    "# Creating model\n",
    "model = RandomForestRegressor(n_estimators=100, verbose=1, n_jobs=-1, random_state=RANDOM_SEED)"
   ]
  },
  {
   "cell_type": "code",
   "execution_count": 100,
   "metadata": {},
   "outputs": [
    {
     "name": "stderr",
     "output_type": "stream",
     "text": [
      "[Parallel(n_jobs=-1)]: Using backend ThreadingBackend with 4 concurrent workers.\n",
      "[Parallel(n_jobs=-1)]: Done  42 tasks      | elapsed:    3.4s\n",
      "[Parallel(n_jobs=-1)]: Done 100 out of 100 | elapsed:    7.7s finished\n",
      "[Parallel(n_jobs=4)]: Using backend ThreadingBackend with 4 concurrent workers.\n",
      "[Parallel(n_jobs=4)]: Done  42 tasks      | elapsed:    0.0s\n",
      "[Parallel(n_jobs=4)]: Done 100 out of 100 | elapsed:    0.1s finished\n"
     ]
    }
   ],
   "source": [
    "# Training the model on a test dataset\n",
    "model.fit(X_train, y_train)\n",
    "\n",
    "# We use a trained model to predict the rating of restaurants in the test sample.\n",
    "# The predicted values are written to a variable y_pred\n",
    "y_pred = model.predict(X_test)"
   ]
  },
  {
   "cell_type": "code",
   "execution_count": 101,
   "metadata": {},
   "outputs": [
    {
     "name": "stdout",
     "output_type": "stream",
     "text": [
      "MAE: 0.20386562499999997\n"
     ]
    }
   ],
   "source": [
    "# Compare the predicted values (y_pred) with real (y_test), and we look at how they differ on average\n",
    "# The metric is called Mean Absolute Error (MAE) and shows the average deviation of the predicted values from the actual ones.\n",
    "print('MAE:', metrics.mean_absolute_error(y_test, y_pred))"
   ]
  },
  {
   "cell_type": "code",
   "execution_count": 102,
   "metadata": {},
   "outputs": [
    {
     "data": {
      "text/plain": [
       "<matplotlib.axes._subplots.AxesSubplot at 0x7f5f45be80b8>"
      ]
     },
     "execution_count": 102,
     "metadata": {},
     "output_type": "execute_result"
    },
    {
     "data": {
      "image/png": "[encoded data removed]",
      "text/plain": [
       "<Figure size 720x720 with 1 Axes>"
      ]
     },
     "metadata": {
      "needs_background": "light"
     },
     "output_type": "display_data"
    }
   ],
   "source": [
    "# In RandomForestRegressor it is possible to display the most important features for the model\n",
    "plt.rcParams['figure.figsize'] = (10,10)\n",
    "feat_importances = pd.Series(model.feature_importances_, index=X.columns)\n",
    "feat_importances.nlargest(15).plot(kind='barh')"
   ]
  },
  {
   "cell_type": "markdown",
   "metadata": {},
   "source": [
    "# Submission\n",
    "Preparing Submission for kaggle"
   ]
  },
  {
   "cell_type": "code",
   "execution_count": 103,
   "metadata": {},
   "outputs": [
    {
     "data": {
      "text/html": [
       "<div>\n",
       "<style scoped>\n",
       "    .dataframe tbody tr th:only-of-type {\n",
       "        vertical-align: middle;\n",
       "    }\n",
       "\n",
       "    .dataframe tbody tr th {\n",
       "        vertical-align: top;\n",
       "    }\n",
       "\n",
       "    .dataframe thead th {\n",
       "        text-align: right;\n",
       "    }\n",
       "</style>\n",
       "<table border=\"1\" class=\"dataframe\">\n",
       "  <thead>\n",
       "    <tr style=\"text-align: right;\">\n",
       "      <th></th>\n",
       "      <th>Ranking</th>\n",
       "      <th>Price Range</th>\n",
       "      <th>Number of Reviews</th>\n",
       "      <th>Rating</th>\n",
       "      <th>Popular_cuisine</th>\n",
       "      <th>Count_cuisines</th>\n",
       "      <th>Days_to_now</th>\n",
       "      <th>Days_between_reviews</th>\n",
       "      <th>Сity_population</th>\n",
       "      <th>Сount_of_rest</th>\n",
       "      <th>Rest_on_person</th>\n",
       "      <th>Ranking_on_city</th>\n",
       "      <th>Std_Ranking</th>\n",
       "    </tr>\n",
       "  </thead>\n",
       "  <tbody>\n",
       "    <tr>\n",
       "      <th>689</th>\n",
       "      <td>724.0</td>\n",
       "      <td>2</td>\n",
       "      <td>5.0</td>\n",
       "      <td>0.0</td>\n",
       "      <td>1.0</td>\n",
       "      <td>1</td>\n",
       "      <td>1190.0</td>\n",
       "      <td>67.0</td>\n",
       "      <td>681</td>\n",
       "      <td>1137.0</td>\n",
       "      <td>0.598945</td>\n",
       "      <td>0.636763</td>\n",
       "      <td>0.522672</td>\n",
       "    </tr>\n",
       "    <tr>\n",
       "      <th>1948</th>\n",
       "      <td>4991.0</td>\n",
       "      <td>2</td>\n",
       "      <td>13.0</td>\n",
       "      <td>0.0</td>\n",
       "      <td>1.0</td>\n",
       "      <td>5</td>\n",
       "      <td>1072.0</td>\n",
       "      <td>67.0</td>\n",
       "      <td>1366</td>\n",
       "      <td>6275.0</td>\n",
       "      <td>0.217689</td>\n",
       "      <td>0.795378</td>\n",
       "      <td>1.047556</td>\n",
       "    </tr>\n",
       "    <tr>\n",
       "      <th>4776</th>\n",
       "      <td>4280.0</td>\n",
       "      <td>2</td>\n",
       "      <td>0.0</td>\n",
       "      <td>0.0</td>\n",
       "      <td>1.0</td>\n",
       "      <td>2</td>\n",
       "      <td>1072.0</td>\n",
       "      <td>67.0</td>\n",
       "      <td>1620</td>\n",
       "      <td>7796.0</td>\n",
       "      <td>0.207799</td>\n",
       "      <td>0.548999</td>\n",
       "      <td>0.176877</td>\n",
       "    </tr>\n",
       "    <tr>\n",
       "      <th>1124</th>\n",
       "      <td>1324.0</td>\n",
       "      <td>1</td>\n",
       "      <td>125.0</td>\n",
       "      <td>0.0</td>\n",
       "      <td>1.0</td>\n",
       "      <td>4</td>\n",
       "      <td>1043.0</td>\n",
       "      <td>155.0</td>\n",
       "      <td>1366</td>\n",
       "      <td>6275.0</td>\n",
       "      <td>0.217689</td>\n",
       "      <td>0.210996</td>\n",
       "      <td>-0.990345</td>\n",
       "    </tr>\n",
       "    <tr>\n",
       "      <th>3126</th>\n",
       "      <td>396.0</td>\n",
       "      <td>2</td>\n",
       "      <td>146.0</td>\n",
       "      <td>0.0</td>\n",
       "      <td>1.0</td>\n",
       "      <td>4</td>\n",
       "      <td>1257.0</td>\n",
       "      <td>108.0</td>\n",
       "      <td>769</td>\n",
       "      <td>1244.0</td>\n",
       "      <td>0.618167</td>\n",
       "      <td>0.318328</td>\n",
       "      <td>-0.615559</td>\n",
       "    </tr>\n",
       "    <tr>\n",
       "      <th>7480</th>\n",
       "      <td>2386.0</td>\n",
       "      <td>2</td>\n",
       "      <td>20.0</td>\n",
       "      <td>0.0</td>\n",
       "      <td>0.0</td>\n",
       "      <td>2</td>\n",
       "      <td>1123.0</td>\n",
       "      <td>143.0</td>\n",
       "      <td>506</td>\n",
       "      <td>3717.0</td>\n",
       "      <td>0.136131</td>\n",
       "      <td>0.641916</td>\n",
       "      <td>0.484438</td>\n",
       "    </tr>\n",
       "    <tr>\n",
       "      <th>9544</th>\n",
       "      <td>2756.0</td>\n",
       "      <td>0</td>\n",
       "      <td>0.0</td>\n",
       "      <td>0.0</td>\n",
       "      <td>1.0</td>\n",
       "      <td>1</td>\n",
       "      <td>1187.0</td>\n",
       "      <td>67.0</td>\n",
       "      <td>860</td>\n",
       "      <td>3254.0</td>\n",
       "      <td>0.264290</td>\n",
       "      <td>0.846958</td>\n",
       "      <td>1.239777</td>\n",
       "    </tr>\n",
       "    <tr>\n",
       "      <th>8002</th>\n",
       "      <td>837.0</td>\n",
       "      <td>2</td>\n",
       "      <td>3.0</td>\n",
       "      <td>0.0</td>\n",
       "      <td>1.0</td>\n",
       "      <td>1</td>\n",
       "      <td>1186.0</td>\n",
       "      <td>67.0</td>\n",
       "      <td>426</td>\n",
       "      <td>889.0</td>\n",
       "      <td>0.479190</td>\n",
       "      <td>0.941507</td>\n",
       "      <td>1.473107</td>\n",
       "    </tr>\n",
       "    <tr>\n",
       "      <th>1025</th>\n",
       "      <td>6130.0</td>\n",
       "      <td>2</td>\n",
       "      <td>30.0</td>\n",
       "      <td>0.0</td>\n",
       "      <td>1.0</td>\n",
       "      <td>4</td>\n",
       "      <td>1072.0</td>\n",
       "      <td>67.0</td>\n",
       "      <td>3223</td>\n",
       "      <td>8809.0</td>\n",
       "      <td>0.365876</td>\n",
       "      <td>0.695879</td>\n",
       "      <td>0.688972</td>\n",
       "    </tr>\n",
       "    <tr>\n",
       "      <th>5605</th>\n",
       "      <td>5949.0</td>\n",
       "      <td>0</td>\n",
       "      <td>0.0</td>\n",
       "      <td>0.0</td>\n",
       "      <td>1.0</td>\n",
       "      <td>1</td>\n",
       "      <td>1072.0</td>\n",
       "      <td>67.0</td>\n",
       "      <td>6010</td>\n",
       "      <td>6372.0</td>\n",
       "      <td>0.943189</td>\n",
       "      <td>0.933616</td>\n",
       "      <td>1.482767</td>\n",
       "    </tr>\n",
       "  </tbody>\n",
       "</table>\n",
       "</div>"
      ],
      "text/plain": [
       "      Ranking  Price Range  Number of Reviews  Rating  Popular_cuisine  \\\n",
       "689     724.0            2                5.0     0.0              1.0   \n",
       "1948   4991.0            2               13.0     0.0              1.0   \n",
       "4776   4280.0            2                0.0     0.0              1.0   \n",
       "1124   1324.0            1              125.0     0.0              1.0   \n",
       "3126    396.0            2              146.0     0.0              1.0   \n",
       "7480   2386.0            2               20.0     0.0              0.0   \n",
       "9544   2756.0            0                0.0     0.0              1.0   \n",
       "8002    837.0            2                3.0     0.0              1.0   \n",
       "1025   6130.0            2               30.0     0.0              1.0   \n",
       "5605   5949.0            0                0.0     0.0              1.0   \n",
       "\n",
       "      Count_cuisines  Days_to_now  Days_between_reviews  Сity_population  \\\n",
       "689                1       1190.0                  67.0              681   \n",
       "1948               5       1072.0                  67.0             1366   \n",
       "4776               2       1072.0                  67.0             1620   \n",
       "1124               4       1043.0                 155.0             1366   \n",
       "3126               4       1257.0                 108.0              769   \n",
       "7480               2       1123.0                 143.0              506   \n",
       "9544               1       1187.0                  67.0              860   \n",
       "8002               1       1186.0                  67.0              426   \n",
       "1025               4       1072.0                  67.0             3223   \n",
       "5605               1       1072.0                  67.0             6010   \n",
       "\n",
       "      Сount_of_rest  Rest_on_person  Ranking_on_city  Std_Ranking  \n",
       "689          1137.0        0.598945         0.636763     0.522672  \n",
       "1948         6275.0        0.217689         0.795378     1.047556  \n",
       "4776         7796.0        0.207799         0.548999     0.176877  \n",
       "1124         6275.0        0.217689         0.210996    -0.990345  \n",
       "3126         1244.0        0.618167         0.318328    -0.615559  \n",
       "7480         3717.0        0.136131         0.641916     0.484438  \n",
       "9544         3254.0        0.264290         0.846958     1.239777  \n",
       "8002          889.0        0.479190         0.941507     1.473107  \n",
       "1025         8809.0        0.365876         0.695879     0.688972  \n",
       "5605         6372.0        0.943189         0.933616     1.482767  "
      ]
     },
     "execution_count": 103,
     "metadata": {},
     "output_type": "execute_result"
    }
   ],
   "source": [
    "test_data.sample(10)"
   ]
  },
  {
   "cell_type": "code",
   "execution_count": 104,
   "metadata": {},
   "outputs": [],
   "source": [
    "test_data = test_data.drop(['Rating'], axis=1)"
   ]
  },
  {
   "cell_type": "code",
   "execution_count": 105,
   "metadata": {},
   "outputs": [
    {
     "data": {
      "text/html": [
       "<div>\n",
       "<style scoped>\n",
       "    .dataframe tbody tr th:only-of-type {\n",
       "        vertical-align: middle;\n",
       "    }\n",
       "\n",
       "    .dataframe tbody tr th {\n",
       "        vertical-align: top;\n",
       "    }\n",
       "\n",
       "    .dataframe thead th {\n",
       "        text-align: right;\n",
       "    }\n",
       "</style>\n",
       "<table border=\"1\" class=\"dataframe\">\n",
       "  <thead>\n",
       "    <tr style=\"text-align: right;\">\n",
       "      <th></th>\n",
       "      <th>Restaurant_id</th>\n",
       "      <th>Rating</th>\n",
       "    </tr>\n",
       "  </thead>\n",
       "  <tbody>\n",
       "    <tr>\n",
       "      <th>0</th>\n",
       "      <td>id_0</td>\n",
       "      <td>2.0</td>\n",
       "    </tr>\n",
       "    <tr>\n",
       "      <th>1</th>\n",
       "      <td>id_1</td>\n",
       "      <td>2.5</td>\n",
       "    </tr>\n",
       "    <tr>\n",
       "      <th>2</th>\n",
       "      <td>id_2</td>\n",
       "      <td>4.0</td>\n",
       "    </tr>\n",
       "    <tr>\n",
       "      <th>3</th>\n",
       "      <td>id_3</td>\n",
       "      <td>1.0</td>\n",
       "    </tr>\n",
       "    <tr>\n",
       "      <th>4</th>\n",
       "      <td>id_4</td>\n",
       "      <td>4.0</td>\n",
       "    </tr>\n",
       "    <tr>\n",
       "      <th>...</th>\n",
       "      <td>...</td>\n",
       "      <td>...</td>\n",
       "    </tr>\n",
       "    <tr>\n",
       "      <th>9995</th>\n",
       "      <td>id_9995</td>\n",
       "      <td>3.0</td>\n",
       "    </tr>\n",
       "    <tr>\n",
       "      <th>9996</th>\n",
       "      <td>id_9996</td>\n",
       "      <td>1.5</td>\n",
       "    </tr>\n",
       "    <tr>\n",
       "      <th>9997</th>\n",
       "      <td>id_9997</td>\n",
       "      <td>4.5</td>\n",
       "    </tr>\n",
       "    <tr>\n",
       "      <th>9998</th>\n",
       "      <td>id_9998</td>\n",
       "      <td>1.0</td>\n",
       "    </tr>\n",
       "    <tr>\n",
       "      <th>9999</th>\n",
       "      <td>id_9999</td>\n",
       "      <td>2.5</td>\n",
       "    </tr>\n",
       "  </tbody>\n",
       "</table>\n",
       "<p>10000 rows × 2 columns</p>\n",
       "</div>"
      ],
      "text/plain": [
       "     Restaurant_id  Rating\n",
       "0             id_0     2.0\n",
       "1             id_1     2.5\n",
       "2             id_2     4.0\n",
       "3             id_3     1.0\n",
       "4             id_4     4.0\n",
       "...            ...     ...\n",
       "9995       id_9995     3.0\n",
       "9996       id_9996     1.5\n",
       "9997       id_9997     4.5\n",
       "9998       id_9998     1.0\n",
       "9999       id_9999     2.5\n",
       "\n",
       "[10000 rows x 2 columns]"
      ]
     },
     "execution_count": 105,
     "metadata": {},
     "output_type": "execute_result"
    }
   ],
   "source": [
    "sample_submission"
   ]
  },
  {
   "cell_type": "code",
   "execution_count": 106,
   "metadata": {},
   "outputs": [
    {
     "name": "stderr",
     "output_type": "stream",
     "text": [
      "[Parallel(n_jobs=4)]: Using backend ThreadingBackend with 4 concurrent workers.\n",
      "[Parallel(n_jobs=4)]: Done  42 tasks      | elapsed:    0.0s\n",
      "[Parallel(n_jobs=4)]: Done 100 out of 100 | elapsed:    0.1s finished\n"
     ]
    }
   ],
   "source": [
    "predict_submission = model.predict(test_data)"
   ]
  },
  {
   "cell_type": "code",
   "execution_count": 107,
   "metadata": {},
   "outputs": [
    {
     "data": {
      "text/plain": [
       "array([3.04 , 4.21 , 4.24 , ..., 3.055, 4.475, 4.265])"
      ]
     },
     "execution_count": 107,
     "metadata": {},
     "output_type": "execute_result"
    }
   ],
   "source": [
    "predict_submission"
   ]
  },
  {
   "cell_type": "code",
   "execution_count": 108,
   "metadata": {},
   "outputs": [
    {
     "data": {
      "text/html": [
       "<div>\n",
       "<style scoped>\n",
       "    .dataframe tbody tr th:only-of-type {\n",
       "        vertical-align: middle;\n",
       "    }\n",
       "\n",
       "    .dataframe tbody tr th {\n",
       "        vertical-align: top;\n",
       "    }\n",
       "\n",
       "    .dataframe thead th {\n",
       "        text-align: right;\n",
       "    }\n",
       "</style>\n",
       "<table border=\"1\" class=\"dataframe\">\n",
       "  <thead>\n",
       "    <tr style=\"text-align: right;\">\n",
       "      <th></th>\n",
       "      <th>Restaurant_id</th>\n",
       "      <th>Rating</th>\n",
       "    </tr>\n",
       "  </thead>\n",
       "  <tbody>\n",
       "    <tr>\n",
       "      <th>0</th>\n",
       "      <td>id_0</td>\n",
       "      <td>3.040</td>\n",
       "    </tr>\n",
       "    <tr>\n",
       "      <th>1</th>\n",
       "      <td>id_1</td>\n",
       "      <td>4.210</td>\n",
       "    </tr>\n",
       "    <tr>\n",
       "      <th>2</th>\n",
       "      <td>id_2</td>\n",
       "      <td>4.240</td>\n",
       "    </tr>\n",
       "    <tr>\n",
       "      <th>3</th>\n",
       "      <td>id_3</td>\n",
       "      <td>4.330</td>\n",
       "    </tr>\n",
       "    <tr>\n",
       "      <th>4</th>\n",
       "      <td>id_4</td>\n",
       "      <td>4.475</td>\n",
       "    </tr>\n",
       "    <tr>\n",
       "      <th>5</th>\n",
       "      <td>id_5</td>\n",
       "      <td>4.425</td>\n",
       "    </tr>\n",
       "    <tr>\n",
       "      <th>6</th>\n",
       "      <td>id_6</td>\n",
       "      <td>1.820</td>\n",
       "    </tr>\n",
       "    <tr>\n",
       "      <th>7</th>\n",
       "      <td>id_7</td>\n",
       "      <td>2.840</td>\n",
       "    </tr>\n",
       "    <tr>\n",
       "      <th>8</th>\n",
       "      <td>id_8</td>\n",
       "      <td>4.090</td>\n",
       "    </tr>\n",
       "    <tr>\n",
       "      <th>9</th>\n",
       "      <td>id_9</td>\n",
       "      <td>4.640</td>\n",
       "    </tr>\n",
       "  </tbody>\n",
       "</table>\n",
       "</div>"
      ],
      "text/plain": [
       "  Restaurant_id  Rating\n",
       "0          id_0   3.040\n",
       "1          id_1   4.210\n",
       "2          id_2   4.240\n",
       "3          id_3   4.330\n",
       "4          id_4   4.475\n",
       "5          id_5   4.425\n",
       "6          id_6   1.820\n",
       "7          id_7   2.840\n",
       "8          id_8   4.090\n",
       "9          id_9   4.640"
      ]
     },
     "execution_count": 108,
     "metadata": {},
     "output_type": "execute_result"
    }
   ],
   "source": [
    "sample_submission['Rating'] = predict_submission\n",
    "sample_submission.to_csv('submission.csv', index=False)\n",
    "sample_submission.head(10)"
   ]
  },
  {
   "cell_type": "code",
   "execution_count": null,
   "metadata": {},
   "outputs": [],
   "source": []
  }
 ],
 "metadata": {
  "kernelspec": {
   "display_name": "Python 3",
   "language": "python",
   "name": "python3"
  },
  "language_info": {
   "codemirror_mode": {
    "name": "ipython",
    "version": 3
   },
   "file_extension": ".py",
   "mimetype": "text/x-python",
   "name": "python",
   "nbconvert_exporter": "python",
   "pygments_lexer": "ipython3",
   "version": "3.7.6"
  }
 },
 "nbformat": 4,
 "nbformat_minor": 4
}
