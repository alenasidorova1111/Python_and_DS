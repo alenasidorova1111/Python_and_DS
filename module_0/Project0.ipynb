{
 "cells": [
  {
   "cell_type": "markdown",
   "metadata": {},
   "source": [
    "This is a realisation of binary search. The goal was to create an algorithm that guesses the number with the least number of attempts."
   ]
  },
  {
   "cell_type": "code",
   "execution_count": 2,
   "metadata": {},
   "outputs": [
    {
     "name": "stdout",
     "output_type": "stream",
     "text": [
      "Your algorithm guesses the number in an average of 5 attempts\n"
     ]
    },
    {
     "data": {
      "text/plain": [
       "5"
      ]
     },
     "execution_count": 2,
     "metadata": {},
     "output_type": "execute_result"
    }
   ],
   "source": [
    "import numpy as np\n",
    "\n",
    "\n",
    "def score_game(game_core):\n",
    "    '''Function that runs the game 1000 times to see how fast the game guesses the number'''\n",
    "    count_ls = []\n",
    "    # Fixes RANDOM SEED, to make your experiment reproducible!\n",
    "    np.random.seed(1)\n",
    "    random_array = np.random.randint(1, 101, size=(1000))\n",
    "\n",
    "    for number in random_array:\n",
    "        count_ls.append(game_core(number))\n",
    "    score = int(np.mean(count_ls))\n",
    "    print(f\"Your algorithm guesses the number in an average of {score} attempts\")\n",
    "\n",
    "    return(score)\n",
    "\n",
    "\n",
    "def game_core_v4(number):\n",
    "    '''Function to guess score_game number using with binary search'''\n",
    "    count = 0\n",
    "    left = 1\n",
    "    right = 100\n",
    "    predict = 0\n",
    "\n",
    "    while number != predict:\n",
    "        count += 1\n",
    "        predict = (left + right)//2\n",
    "\n",
    "        if number > predict:\n",
    "            left = (left + right)//2 + 1\n",
    "        else:\n",
    "            right = (left + right)//2 - 1\n",
    "\n",
    "    return(count)\n",
    "\n",
    "\n",
    "score_game(game_core_v4)"
   ]
  },
  {
   "cell_type": "code",
   "execution_count": null,
   "metadata": {},
   "outputs": [],
   "source": []
  }
 ],
 "metadata": {
  "kernelspec": {
   "display_name": "Python 3",
   "language": "python",
   "name": "python3"
  },
  "language_info": {
   "codemirror_mode": {
    "name": "ipython",
    "version": 3
   },
   "file_extension": ".py",
   "mimetype": "text/x-python",
   "name": "python",
   "nbconvert_exporter": "python",
   "pygments_lexer": "ipython3",
   "version": "3.7.6"
  }
 },
 "nbformat": 4,
 "nbformat_minor": 4
}
