{
 "cells": [
  {
   "cell_type": "markdown",
   "metadata": {},
   "source": [
    "### Задание по программированию\n",
    "\n",
    "#### Описание задачи\n",
    "Найти непрерывный подмассив в массиве, содержащий хотя бы одно число, который имеет наибольшую сумму.\n",
    "\n",
    "#### Условия\n",
    "Необходимо написать программу с функцией findMaxSubArray(A), принимающей на вход массив целых чисел А ненулевой длины и\n",
    "возвращающей непрерывный подмассив массива А ненулевой длины, который имеет наибольшую сумму среди всех непрерывных\n",
    "подмассивов массива А.\n",
    "\n",
    "#### Язык программирования: python\n",
    "\n",
    "#### Использование дополнительных библиотек и функций: не разрешается\n",
    "\n",
    "#### Пример:\n",
    "На вход подается массив [-2,1,-3,4,-1,2,1,-5,4]\n",
    "На выходе функции ожидается массив [4,-1,2,1], имеющий максимальную\n",
    "сумму среди всех подмассивов равную 6."
   ]
  },
  {
   "cell_type": "code",
   "execution_count": null,
   "metadata": {},
   "outputs": [],
   "source": [
    "def findMaxSubArray(A):\n",
    "    empty_dict = {}\n",
    "    lenth_of_A = len(A)-1\n",
    "    for element in range(lenth_of_A):\n",
    "        empty_dict.setdefault(tuple(A[element:]), sum(A[element:]))\n",
    "        for element1 in range(lenth_of_A):\n",
    "            empty_dict.setdefault(tuple(A[element:lenth_of_A]), sum(A[element:lenth_of_A]))\n",
    "            lenth_of_A -= 1\n",
    "        lenth_of_A = len(A)-1\n",
    "    sorted_dict = sorted(empty_dict, key=empty_dict.__getitem__)\n",
    "    result = list(sorted_dict[-1])\n",
    "    return result"
   ]
  },
  {
   "cell_type": "code",
   "execution_count": 44,
   "metadata": {
    "scrolled": true
   },
   "outputs": [
    {
     "data": {
      "text/plain": [
       "[4, -1, 2, 1]"
      ]
     },
     "execution_count": 44,
     "metadata": {},
     "output_type": "execute_result"
    }
   ],
   "source": [
    "findMaxSubArray([-2,1,-3,4,-1,2,1,-5,4])"
   ]
  }
 ],
 "metadata": {
  "kernelspec": {
   "display_name": "Python 3",
   "language": "python",
   "name": "python3"
  },
  "language_info": {
   "codemirror_mode": {
    "name": "ipython",
    "version": 3
   },
   "file_extension": ".py",
   "mimetype": "text/x-python",
   "name": "python",
   "nbconvert_exporter": "python",
   "pygments_lexer": "ipython3",
   "version": "3.7.6"
  }
 },
 "nbformat": 4,
 "nbformat_minor": 4
}
